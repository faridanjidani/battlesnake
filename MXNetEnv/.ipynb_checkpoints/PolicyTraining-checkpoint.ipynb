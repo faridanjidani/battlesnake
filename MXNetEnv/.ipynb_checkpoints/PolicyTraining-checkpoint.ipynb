{
 "cells": [
  {
   "cell_type": "markdown",
   "metadata": {},
   "source": [
    "Initialisations to change the base directory of the entry scripts and to update mxnet to the newest mxnet-mkl"
   ]
  },
  {
   "cell_type": "code",
   "execution_count": 1,
   "metadata": {},
   "outputs": [],
   "source": [
    "import boto3\n",
    "import sagemaker\n",
    "import numpy as np\n",
    "\n",
    "from sagemaker.tuner import IntegerParameter, CategoricalParameter, ContinuousParameter, HyperparameterTuner\n",
    "from sagemaker.mxnet.estimator import MXNet"
   ]
  },
  {
   "cell_type": "markdown",
   "metadata": {},
   "source": [
    "Set the parameters of the notebook.\n",
    "`run_hpo = False` will only train the network once within this notebook. \n",
    "If `run_hpo = True` will run the hyperparameter optimization (run the training multiple times with different parameters to find the best parameters) (see Hyperparameter tuning jobs in SageMaker)"
   ]
  },
  {
   "cell_type": "code",
   "execution_count": 2,
   "metadata": {},
   "outputs": [],
   "source": [
    "run_hpo = False\n",
    "map_size = (11, 11)"
   ]
  },
  {
   "cell_type": "markdown",
   "metadata": {},
   "source": [
    "## Initialise sagemaker\n",
    "We need to define several parameters prior to running the training job. "
   ]
  },
  {
   "cell_type": "code",
   "execution_count": 31,
   "metadata": {},
   "outputs": [
    {
     "name": "stdout",
     "output_type": "stream",
     "text": [
      "S3 bucket path: s3://sagemaker-us-west-2-681627153266/\n",
      "Using IAM role arn: arn:aws:iam::681627153266:role/sagemaker-soln-bs-us-west-2-nb-role\n"
     ]
    }
   ],
   "source": [
    "sage_session = sagemaker.session.Session()\n",
    "s3_bucket = sage_session.default_bucket()\n",
    "s3_output_path = 's3://{}/'.format(s3_bucket)\n",
    "print(\"S3 bucket path: {}\".format(s3_output_path))\n",
    "\n",
    "# Run on local mode if no HPO is required\n",
    "if run_hpo == False:\n",
    "    local_mode = True\n",
    "else:\n",
    "    local_mode = False\n",
    "    \n",
    "if local_mode:\n",
    "    train_instance_type = 'local'\n",
    "else:\n",
    "    train_instance_type = \"SAGEMAKER_TRAINING_INSTANCE_TYPE\"\n",
    "endpoint_instance_type = \"SAGEMAKER_INFERENCE_INSTANCE_TYPE\"\n",
    "    \n",
    "role = sagemaker.get_execution_role()\n",
    "print(\"Using IAM role arn: {}\".format(role))"
   ]
  },
  {
   "cell_type": "markdown",
   "metadata": {},
   "source": [
    "## Define the attributes of the training job\n",
    "Use `job_name_prefix` to identify the sagemaker training job for this."
   ]
  },
  {
   "cell_type": "code",
   "execution_count": 4,
   "metadata": {},
   "outputs": [],
   "source": [
    "job_name_prefix = 'Battlesnake-job-mxnet'"
   ]
  },
  {
   "cell_type": "markdown",
   "metadata": {},
   "source": [
    "## Define the metrics to evaluate your training job\n",
    "The regex for this metric was defined based on what is printed in the training script `examples/train.py`"
   ]
  },
  {
   "cell_type": "code",
   "execution_count": 5,
   "metadata": {},
   "outputs": [],
   "source": [
    "metric_definitions = [\n",
    "    {'Name': 'timesteps', 'Regex': '.*Mean timesteps ([-+]?[0-9]*[.]?[0-9]+([eE][-+]?[0-9]+)?)'},\n",
    "]"
   ]
  },
  {
   "cell_type": "markdown",
   "metadata": {},
   "source": [
    "## Define the hyperparameters of your job"
   ]
  },
  {
   "cell_type": "code",
   "execution_count": 6,
   "metadata": {},
   "outputs": [],
   "source": [
    "map_size_string = \"[{}, {}]\".format(map_size[0], map_size[1])\n",
    "static_hyperparameters = {\n",
    "    'qnetwork_type': \"attention\",\n",
    "    'seed': 111,\n",
    "    'number_of_snakes': 4,\n",
    "    'episodes': 3500,\n",
    "    'print_score_steps': 10,\n",
    "    'activation_type': \"softrelu\",\n",
    "    'state_type': 'one_versus_all',\n",
    "    'sequence_length': 2,\n",
    "    'repeat_size': 3,\n",
    "    'kernel_size': 3,\n",
    "    'starting_channels': 6,\n",
    "    'map_size': map_size_string,\n",
    "    'snake_representation': 'bordered-51s',\n",
    "    'save_model_every': 700,\n",
    "    'eps_start': 0.99,\n",
    "    'models_to_save': 'local'\n",
    "}"
   ]
  },
  {
   "cell_type": "markdown",
   "metadata": {},
   "source": [
    "# Train your model here\n",
    "Defines the estimator.\n",
    "If `run_hpo == False`, this training job will run. Please note that this will take a couple of hours."
   ]
  },
  {
   "cell_type": "code",
   "execution_count": 7,
   "metadata": {
    "scrolled": true
   },
   "outputs": [
    {
     "name": "stderr",
     "output_type": "stream",
     "text": [
      "train_instance_type has been renamed in sagemaker>=2.\n",
      "See: https://sagemaker.readthedocs.io/en/stable/v2.html for details.\n",
      "train_instance_count has been renamed in sagemaker>=2.\n",
      "See: https://sagemaker.readthedocs.io/en/stable/v2.html for details.\n",
      "train_instance_type has been renamed in sagemaker>=2.\n",
      "See: https://sagemaker.readthedocs.io/en/stable/v2.html for details.\n"
     ]
    },
    {
     "name": "stdout",
     "output_type": "stream",
     "text": [
      "Creating 6wn8d4f6c5-algo-1-r8807 ... \n",
      "Creating 6wn8d4f6c5-algo-1-r8807 ... done\n",
      "Attaching to 6wn8d4f6c5-algo-1-r8807\n",
      "\u001b[36m6wn8d4f6c5-algo-1-r8807 |\u001b[0m 2021-08-07 18:48:49,930 sagemaker-training-toolkit INFO     Imported framework sagemaker_mxnet_container.training\n",
      "\u001b[36m6wn8d4f6c5-algo-1-r8807 |\u001b[0m 2021-08-07 18:48:49,933 sagemaker-training-toolkit INFO     No GPUs detected (normal if no gpus installed)\n",
      "\u001b[36m6wn8d4f6c5-algo-1-r8807 |\u001b[0m 2021-08-07 18:48:49,949 sagemaker_mxnet_container.training INFO     MXNet training environment: {'SM_HOSTS': '[\"algo-1-r8807\"]', 'SM_NETWORK_INTERFACE_NAME': 'eth0', 'SM_HPS': '{\"activation_type\":\"softrelu\",\"episodes\":3500,\"eps_start\":0.99,\"kernel_size\":3,\"map_size\":\"[11, 11]\",\"models_to_save\":\"local\",\"number_of_snakes\":4,\"print_score_steps\":10,\"qnetwork_type\":\"attention\",\"repeat_size\":3,\"save_model_every\":700,\"seed\":111,\"sequence_length\":2,\"snake_representation\":\"bordered-51s\",\"starting_channels\":6,\"state_type\":\"one_versus_all\"}', 'SM_USER_ENTRY_POINT': 'train.py', 'SM_FRAMEWORK_PARAMS': '{}', 'SM_RESOURCE_CONFIG': '{\"current_host\":\"algo-1-r8807\",\"hosts\":[\"algo-1-r8807\"]}', 'SM_INPUT_DATA_CONFIG': '{}', 'SM_OUTPUT_DATA_DIR': '/opt/ml/output/data', 'SM_CHANNELS': '[]', 'SM_CURRENT_HOST': 'algo-1-r8807', 'SM_MODULE_NAME': 'train', 'SM_LOG_LEVEL': '20', 'SM_FRAMEWORK_MODULE': 'sagemaker_mxnet_container.training:main', 'SM_INPUT_DIR': '/opt/ml/input', 'SM_INPUT_CONFIG_DIR': '/opt/ml/input/config', 'SM_OUTPUT_DIR': '/opt/ml/output', 'SM_NUM_CPUS': '2', 'SM_NUM_GPUS': '0', 'SM_MODEL_DIR': '/opt/ml/model', 'SM_MODULE_DIR': 's3://sagemaker-us-west-2-681627153266/Battlesnake-job-mxnet-2021-08-07-18-47-47-200/source/sourcedir.tar.gz', 'SM_TRAINING_ENV': '{\"additional_framework_parameters\":{},\"channel_input_dirs\":{},\"current_host\":\"algo-1-r8807\",\"framework_module\":\"sagemaker_mxnet_container.training:main\",\"hosts\":[\"algo-1-r8807\"],\"hyperparameters\":{\"activation_type\":\"softrelu\",\"episodes\":3500,\"eps_start\":0.99,\"kernel_size\":3,\"map_size\":\"[11, 11]\",\"models_to_save\":\"local\",\"number_of_snakes\":4,\"print_score_steps\":10,\"qnetwork_type\":\"attention\",\"repeat_size\":3,\"save_model_every\":700,\"seed\":111,\"sequence_length\":2,\"snake_representation\":\"bordered-51s\",\"starting_channels\":6,\"state_type\":\"one_versus_all\"},\"input_config_dir\":\"/opt/ml/input/config\",\"input_data_config\":{},\"input_dir\":\"/opt/ml/input\",\"is_master\":true,\"job_name\":\"Battlesnake-job-mxnet-2021-08-07-18-47-47-200\",\"log_level\":20,\"master_hostname\":\"algo-1-r8807\",\"model_dir\":\"/opt/ml/model\",\"module_dir\":\"s3://sagemaker-us-west-2-681627153266/Battlesnake-job-mxnet-2021-08-07-18-47-47-200/source/sourcedir.tar.gz\",\"module_name\":\"train\",\"network_interface_name\":\"eth0\",\"num_cpus\":2,\"num_gpus\":0,\"output_data_dir\":\"/opt/ml/output/data\",\"output_dir\":\"/opt/ml/output\",\"output_intermediate_dir\":\"/opt/ml/output/intermediate\",\"resource_config\":{\"current_host\":\"algo-1-r8807\",\"hosts\":[\"algo-1-r8807\"]},\"user_entry_point\":\"train.py\"}', 'SM_USER_ARGS': '[\"--activation_type\",\"softrelu\",\"--episodes\",\"3500\",\"--eps_start\",\"0.99\",\"--kernel_size\",\"3\",\"--map_size\",\"[11, 11]\",\"--models_to_save\",\"local\",\"--number_of_snakes\",\"4\",\"--print_score_steps\",\"10\",\"--qnetwork_type\",\"attention\",\"--repeat_size\",\"3\",\"--save_model_every\",\"700\",\"--seed\",\"111\",\"--sequence_length\",\"2\",\"--snake_representation\",\"bordered-51s\",\"--starting_channels\",\"6\",\"--state_type\",\"one_versus_all\"]', 'SM_OUTPUT_INTERMEDIATE_DIR': '/opt/ml/output/intermediate', 'SM_HP_QNETWORK_TYPE': 'attention', 'SM_HP_SEED': '111', 'SM_HP_NUMBER_OF_SNAKES': '4', 'SM_HP_EPISODES': '3500', 'SM_HP_PRINT_SCORE_STEPS': '10', 'SM_HP_ACTIVATION_TYPE': 'softrelu', 'SM_HP_STATE_TYPE': 'one_versus_all', 'SM_HP_SEQUENCE_LENGTH': '2', 'SM_HP_REPEAT_SIZE': '3', 'SM_HP_KERNEL_SIZE': '3', 'SM_HP_STARTING_CHANNELS': '6', 'SM_HP_MAP_SIZE': '[11, 11]', 'SM_HP_SNAKE_REPRESENTATION': 'bordered-51s', 'SM_HP_SAVE_MODEL_EVERY': '700', 'SM_HP_EPS_START': '0.99', 'SM_HP_MODELS_TO_SAVE': 'local'}\n",
      "\u001b[36m6wn8d4f6c5-algo-1-r8807 |\u001b[0m 2021-08-07 18:48:50,149 sagemaker-training-toolkit INFO     Installing module with the following command:\n",
      "\u001b[36m6wn8d4f6c5-algo-1-r8807 |\u001b[0m /usr/local/bin/python3.6 -m pip install . -r requirements.txt\n",
      "\u001b[36m6wn8d4f6c5-algo-1-r8807 |\u001b[0m Processing /opt/ml/code\n",
      "\u001b[36m6wn8d4f6c5-algo-1-r8807 |\u001b[0m Collecting array2gif\n",
      "\u001b[36m6wn8d4f6c5-algo-1-r8807 |\u001b[0m   Downloading https://files.pythonhosted.org/packages/42/f4/4dd66a8b65738ea8f2739a48d0e1a79e6a77c0cfb4b35a890eb9792dc861/array2gif-1.0.4-py3-none-any.whl\n",
      "\u001b[36m6wn8d4f6c5-algo-1-r8807 |\u001b[0m Collecting mxboard\n",
      "\u001b[36m6wn8d4f6c5-algo-1-r8807 |\u001b[0m \u001b[?25l  Downloading https://files.pythonhosted.org/packages/3e/e4/57f6884c39b471c8fd446dc59998045ceab1c9ebe4a6091c953d97a60934/mxboard-0.1.0-py3-none-any.whl (47kB)\n",
      "\u001b[K     |████████████████████████████████| 51kB 5.1MB/s  eta 0:00:01\n",
      "\u001b[36m6wn8d4f6c5-algo-1-r8807 |\u001b[0m \u001b[?25hCollecting gym\n",
      "\u001b[36m6wn8d4f6c5-algo-1-r8807 |\u001b[0m \u001b[?25l  Downloading https://files.pythonhosted.org/packages/1a/db/816fd52c0c196b6799e89d1f65b6c74fead2707cf7d447f3f354edfa7a44/gym-0.18.3.tar.gz (1.6MB)\n",
      "\u001b[K     |████████████████████████████████| 1.6MB 14.0MB/s eta 0:00:01\n",
      "\u001b[36m6wn8d4f6c5-algo-1-r8807 |\u001b[0m \u001b[?25hRequirement already satisfied: numpy in /usr/local/lib/python3.6/site-packages (from array2gif->-r requirements.txt (line 1)) (1.19.1)\n",
      "\u001b[36m6wn8d4f6c5-algo-1-r8807 |\u001b[0m Requirement already satisfied: Pillow in /usr/local/lib/python3.6/site-packages (from mxboard->-r requirements.txt (line 2)) (8.1.1)\n",
      "\u001b[36m6wn8d4f6c5-algo-1-r8807 |\u001b[0m Requirement already satisfied: six in /usr/local/lib/python3.6/site-packages (from mxboard->-r requirements.txt (line 2)) (1.15.0)\n",
      "\u001b[36m6wn8d4f6c5-algo-1-r8807 |\u001b[0m Requirement already satisfied: protobuf>=3.0.0 in /usr/local/lib/python3.6/site-packages (from mxboard->-r requirements.txt (line 2)) (3.15.4)\n",
      "\u001b[36m6wn8d4f6c5-algo-1-r8807 |\u001b[0m Requirement already satisfied: scipy in /usr/local/lib/python3.6/site-packages (from gym->-r requirements.txt (line 3)) (1.2.2)\n",
      "\u001b[36m6wn8d4f6c5-algo-1-r8807 |\u001b[0m Collecting pyglet<=1.5.15,>=1.4.0\n",
      "\u001b[36m6wn8d4f6c5-algo-1-r8807 |\u001b[0m \u001b[?25l  Downloading https://files.pythonhosted.org/packages/81/5e/aef9e460989e4b832215d5fcee3ea9b0629e9bce8607284d9c1021b6a251/pyglet-1.5.15-py3-none-any.whl (1.1MB)\n",
      "\u001b[K     |████████████████████████████████| 1.1MB 29.0MB/s eta 0:00:01\n",
      "\u001b[36m6wn8d4f6c5-algo-1-r8807 |\u001b[0m \u001b[?25hRequirement already satisfied: cloudpickle<1.7.0,>=1.2.0 in /usr/local/lib/python3.6/site-packages (from gym->-r requirements.txt (line 3)) (1.6.0)\n",
      "\u001b[36m6wn8d4f6c5-algo-1-r8807 |\u001b[0m Installing collected packages: array2gif, mxboard, pyglet, gym, battlesnake-gym\n",
      "\u001b[36m6wn8d4f6c5-algo-1-r8807 |\u001b[0m     Running setup.py install for gym ... \u001b[?25ldone\n",
      "\u001b[36m6wn8d4f6c5-algo-1-r8807 |\u001b[0m \u001b[?25h    Running setup.py install for battlesnake-gym ... \u001b[?25ldone\n",
      "\u001b[36m6wn8d4f6c5-algo-1-r8807 |\u001b[0m \u001b[?25hSuccessfully installed array2gif-1.0.4 battlesnake-gym-0.1.dev0 gym-0.18.3 mxboard-0.1.0 pyglet-1.5.15\n",
      "\u001b[36m6wn8d4f6c5-algo-1-r8807 |\u001b[0m \u001b[33mWARNING: You are using pip version 19.3.1; however, version 21.2.3 is available.\n",
      "\u001b[36m6wn8d4f6c5-algo-1-r8807 |\u001b[0m You should consider upgrading via the 'pip install --upgrade pip' command.\u001b[0m\n",
      "\u001b[36m6wn8d4f6c5-algo-1-r8807 |\u001b[0m 2021-08-07 18:48:54,679 sagemaker-training-toolkit INFO     No GPUs detected (normal if no gpus installed)\n",
      "\u001b[36m6wn8d4f6c5-algo-1-r8807 |\u001b[0m 2021-08-07 18:48:54,698 sagemaker-training-toolkit INFO     No GPUs detected (normal if no gpus installed)\n",
      "\u001b[36m6wn8d4f6c5-algo-1-r8807 |\u001b[0m 2021-08-07 18:48:54,717 sagemaker-training-toolkit INFO     No GPUs detected (normal if no gpus installed)\n",
      "\u001b[36m6wn8d4f6c5-algo-1-r8807 |\u001b[0m 2021-08-07 18:48:54,732 sagemaker-training-toolkit INFO     Invoking user script\n",
      "\u001b[36m6wn8d4f6c5-algo-1-r8807 |\u001b[0m \n",
      "\u001b[36m6wn8d4f6c5-algo-1-r8807 |\u001b[0m Training Env:\n",
      "\u001b[36m6wn8d4f6c5-algo-1-r8807 |\u001b[0m \n",
      "\u001b[36m6wn8d4f6c5-algo-1-r8807 |\u001b[0m {\n",
      "\u001b[36m6wn8d4f6c5-algo-1-r8807 |\u001b[0m     \"additional_framework_parameters\": {},\n",
      "\u001b[36m6wn8d4f6c5-algo-1-r8807 |\u001b[0m     \"channel_input_dirs\": {},\n",
      "\u001b[36m6wn8d4f6c5-algo-1-r8807 |\u001b[0m     \"current_host\": \"algo-1-r8807\",\n",
      "\u001b[36m6wn8d4f6c5-algo-1-r8807 |\u001b[0m     \"framework_module\": \"sagemaker_mxnet_container.training:main\",\n",
      "\u001b[36m6wn8d4f6c5-algo-1-r8807 |\u001b[0m     \"hosts\": [\n",
      "\u001b[36m6wn8d4f6c5-algo-1-r8807 |\u001b[0m         \"algo-1-r8807\"\n",
      "\u001b[36m6wn8d4f6c5-algo-1-r8807 |\u001b[0m     ],\n",
      "\u001b[36m6wn8d4f6c5-algo-1-r8807 |\u001b[0m     \"hyperparameters\": {\n",
      "\u001b[36m6wn8d4f6c5-algo-1-r8807 |\u001b[0m         \"qnetwork_type\": \"attention\",\n",
      "\u001b[36m6wn8d4f6c5-algo-1-r8807 |\u001b[0m         \"seed\": 111,\n",
      "\u001b[36m6wn8d4f6c5-algo-1-r8807 |\u001b[0m         \"number_of_snakes\": 4,\n",
      "\u001b[36m6wn8d4f6c5-algo-1-r8807 |\u001b[0m         \"episodes\": 3500,\n",
      "\u001b[36m6wn8d4f6c5-algo-1-r8807 |\u001b[0m         \"print_score_steps\": 10,\n",
      "\u001b[36m6wn8d4f6c5-algo-1-r8807 |\u001b[0m         \"activation_type\": \"softrelu\",\n",
      "\u001b[36m6wn8d4f6c5-algo-1-r8807 |\u001b[0m         \"state_type\": \"one_versus_all\",\n",
      "\u001b[36m6wn8d4f6c5-algo-1-r8807 |\u001b[0m         \"sequence_length\": 2,\n",
      "\u001b[36m6wn8d4f6c5-algo-1-r8807 |\u001b[0m         \"repeat_size\": 3,\n",
      "\u001b[36m6wn8d4f6c5-algo-1-r8807 |\u001b[0m         \"kernel_size\": 3,\n",
      "\u001b[36m6wn8d4f6c5-algo-1-r8807 |\u001b[0m         \"starting_channels\": 6,\n",
      "\u001b[36m6wn8d4f6c5-algo-1-r8807 |\u001b[0m         \"map_size\": \"[11, 11]\",\n",
      "\u001b[36m6wn8d4f6c5-algo-1-r8807 |\u001b[0m         \"snake_representation\": \"bordered-51s\",\n",
      "\u001b[36m6wn8d4f6c5-algo-1-r8807 |\u001b[0m         \"save_model_every\": 700,\n",
      "\u001b[36m6wn8d4f6c5-algo-1-r8807 |\u001b[0m         \"eps_start\": 0.99,\n",
      "\u001b[36m6wn8d4f6c5-algo-1-r8807 |\u001b[0m         \"models_to_save\": \"local\"\n",
      "\u001b[36m6wn8d4f6c5-algo-1-r8807 |\u001b[0m     },\n",
      "\u001b[36m6wn8d4f6c5-algo-1-r8807 |\u001b[0m     \"input_config_dir\": \"/opt/ml/input/config\",\n",
      "\u001b[36m6wn8d4f6c5-algo-1-r8807 |\u001b[0m     \"input_data_config\": {},\n",
      "\u001b[36m6wn8d4f6c5-algo-1-r8807 |\u001b[0m     \"input_dir\": \"/opt/ml/input\",\n",
      "\u001b[36m6wn8d4f6c5-algo-1-r8807 |\u001b[0m     \"is_master\": true,\n",
      "\u001b[36m6wn8d4f6c5-algo-1-r8807 |\u001b[0m     \"job_name\": \"Battlesnake-job-mxnet-2021-08-07-18-47-47-200\",\n",
      "\u001b[36m6wn8d4f6c5-algo-1-r8807 |\u001b[0m     \"log_level\": 20,\n",
      "\u001b[36m6wn8d4f6c5-algo-1-r8807 |\u001b[0m     \"master_hostname\": \"algo-1-r8807\",\n",
      "\u001b[36m6wn8d4f6c5-algo-1-r8807 |\u001b[0m     \"model_dir\": \"/opt/ml/model\",\n",
      "\u001b[36m6wn8d4f6c5-algo-1-r8807 |\u001b[0m     \"module_dir\": \"s3://sagemaker-us-west-2-681627153266/Battlesnake-job-mxnet-2021-08-07-18-47-47-200/source/sourcedir.tar.gz\",\n",
      "\u001b[36m6wn8d4f6c5-algo-1-r8807 |\u001b[0m     \"module_name\": \"train\",\n",
      "\u001b[36m6wn8d4f6c5-algo-1-r8807 |\u001b[0m     \"network_interface_name\": \"eth0\",\n",
      "\u001b[36m6wn8d4f6c5-algo-1-r8807 |\u001b[0m     \"num_cpus\": 2,\n",
      "\u001b[36m6wn8d4f6c5-algo-1-r8807 |\u001b[0m     \"num_gpus\": 0,\n",
      "\u001b[36m6wn8d4f6c5-algo-1-r8807 |\u001b[0m     \"output_data_dir\": \"/opt/ml/output/data\",\n",
      "\u001b[36m6wn8d4f6c5-algo-1-r8807 |\u001b[0m     \"output_dir\": \"/opt/ml/output\",\n",
      "\u001b[36m6wn8d4f6c5-algo-1-r8807 |\u001b[0m     \"output_intermediate_dir\": \"/opt/ml/output/intermediate\",\n",
      "\u001b[36m6wn8d4f6c5-algo-1-r8807 |\u001b[0m     \"resource_config\": {\n",
      "\u001b[36m6wn8d4f6c5-algo-1-r8807 |\u001b[0m         \"current_host\": \"algo-1-r8807\",\n",
      "\u001b[36m6wn8d4f6c5-algo-1-r8807 |\u001b[0m         \"hosts\": [\n",
      "\u001b[36m6wn8d4f6c5-algo-1-r8807 |\u001b[0m             \"algo-1-r8807\"\n",
      "\u001b[36m6wn8d4f6c5-algo-1-r8807 |\u001b[0m         ]\n",
      "\u001b[36m6wn8d4f6c5-algo-1-r8807 |\u001b[0m     },\n",
      "\u001b[36m6wn8d4f6c5-algo-1-r8807 |\u001b[0m     \"user_entry_point\": \"train.py\"\n",
      "\u001b[36m6wn8d4f6c5-algo-1-r8807 |\u001b[0m }\n",
      "\u001b[36m6wn8d4f6c5-algo-1-r8807 |\u001b[0m \n",
      "\u001b[36m6wn8d4f6c5-algo-1-r8807 |\u001b[0m Environment variables:\n",
      "\u001b[36m6wn8d4f6c5-algo-1-r8807 |\u001b[0m \n",
      "\u001b[36m6wn8d4f6c5-algo-1-r8807 |\u001b[0m SM_HOSTS=[\"algo-1-r8807\"]\n",
      "\u001b[36m6wn8d4f6c5-algo-1-r8807 |\u001b[0m SM_NETWORK_INTERFACE_NAME=eth0\n",
      "\u001b[36m6wn8d4f6c5-algo-1-r8807 |\u001b[0m SM_HPS={\"activation_type\":\"softrelu\",\"episodes\":3500,\"eps_start\":0.99,\"kernel_size\":3,\"map_size\":\"[11, 11]\",\"models_to_save\":\"local\",\"number_of_snakes\":4,\"print_score_steps\":10,\"qnetwork_type\":\"attention\",\"repeat_size\":3,\"save_model_every\":700,\"seed\":111,\"sequence_length\":2,\"snake_representation\":\"bordered-51s\",\"starting_channels\":6,\"state_type\":\"one_versus_all\"}\n",
      "\u001b[36m6wn8d4f6c5-algo-1-r8807 |\u001b[0m SM_USER_ENTRY_POINT=train.py\n",
      "\u001b[36m6wn8d4f6c5-algo-1-r8807 |\u001b[0m SM_FRAMEWORK_PARAMS={}\n",
      "\u001b[36m6wn8d4f6c5-algo-1-r8807 |\u001b[0m SM_RESOURCE_CONFIG={\"current_host\":\"algo-1-r8807\",\"hosts\":[\"algo-1-r8807\"]}\n",
      "\u001b[36m6wn8d4f6c5-algo-1-r8807 |\u001b[0m SM_INPUT_DATA_CONFIG={}\n",
      "\u001b[36m6wn8d4f6c5-algo-1-r8807 |\u001b[0m SM_OUTPUT_DATA_DIR=/opt/ml/output/data\n",
      "\u001b[36m6wn8d4f6c5-algo-1-r8807 |\u001b[0m SM_CHANNELS=[]\n",
      "\u001b[36m6wn8d4f6c5-algo-1-r8807 |\u001b[0m SM_CURRENT_HOST=algo-1-r8807\n",
      "\u001b[36m6wn8d4f6c5-algo-1-r8807 |\u001b[0m SM_MODULE_NAME=train\n",
      "\u001b[36m6wn8d4f6c5-algo-1-r8807 |\u001b[0m SM_LOG_LEVEL=20\n",
      "\u001b[36m6wn8d4f6c5-algo-1-r8807 |\u001b[0m SM_FRAMEWORK_MODULE=sagemaker_mxnet_container.training:main\n",
      "\u001b[36m6wn8d4f6c5-algo-1-r8807 |\u001b[0m SM_INPUT_DIR=/opt/ml/input\n",
      "\u001b[36m6wn8d4f6c5-algo-1-r8807 |\u001b[0m SM_INPUT_CONFIG_DIR=/opt/ml/input/config\n",
      "\u001b[36m6wn8d4f6c5-algo-1-r8807 |\u001b[0m SM_OUTPUT_DIR=/opt/ml/output\n",
      "\u001b[36m6wn8d4f6c5-algo-1-r8807 |\u001b[0m SM_NUM_CPUS=2\n",
      "\u001b[36m6wn8d4f6c5-algo-1-r8807 |\u001b[0m SM_NUM_GPUS=0\n",
      "\u001b[36m6wn8d4f6c5-algo-1-r8807 |\u001b[0m SM_MODEL_DIR=/opt/ml/model\n",
      "\u001b[36m6wn8d4f6c5-algo-1-r8807 |\u001b[0m SM_MODULE_DIR=s3://sagemaker-us-west-2-681627153266/Battlesnake-job-mxnet-2021-08-07-18-47-47-200/source/sourcedir.tar.gz\n",
      "\u001b[36m6wn8d4f6c5-algo-1-r8807 |\u001b[0m SM_TRAINING_ENV={\"additional_framework_parameters\":{},\"channel_input_dirs\":{},\"current_host\":\"algo-1-r8807\",\"framework_module\":\"sagemaker_mxnet_container.training:main\",\"hosts\":[\"algo-1-r8807\"],\"hyperparameters\":{\"activation_type\":\"softrelu\",\"episodes\":3500,\"eps_start\":0.99,\"kernel_size\":3,\"map_size\":\"[11, 11]\",\"models_to_save\":\"local\",\"number_of_snakes\":4,\"print_score_steps\":10,\"qnetwork_type\":\"attention\",\"repeat_size\":3,\"save_model_every\":700,\"seed\":111,\"sequence_length\":2,\"snake_representation\":\"bordered-51s\",\"starting_channels\":6,\"state_type\":\"one_versus_all\"},\"input_config_dir\":\"/opt/ml/input/config\",\"input_data_config\":{},\"input_dir\":\"/opt/ml/input\",\"is_master\":true,\"job_name\":\"Battlesnake-job-mxnet-2021-08-07-18-47-47-200\",\"log_level\":20,\"master_hostname\":\"algo-1-r8807\",\"model_dir\":\"/opt/ml/model\",\"module_dir\":\"s3://sagemaker-us-west-2-681627153266/Battlesnake-job-mxnet-2021-08-07-18-47-47-200/source/sourcedir.tar.gz\",\"module_name\":\"train\",\"network_interface_name\":\"eth0\",\"num_cpus\":2,\"num_gpus\":0,\"output_data_dir\":\"/opt/ml/output/data\",\"output_dir\":\"/opt/ml/output\",\"output_intermediate_dir\":\"/opt/ml/output/intermediate\",\"resource_config\":{\"current_host\":\"algo-1-r8807\",\"hosts\":[\"algo-1-r8807\"]},\"user_entry_point\":\"train.py\"}\n",
      "\u001b[36m6wn8d4f6c5-algo-1-r8807 |\u001b[0m SM_USER_ARGS=[\"--activation_type\",\"softrelu\",\"--episodes\",\"3500\",\"--eps_start\",\"0.99\",\"--kernel_size\",\"3\",\"--map_size\",\"[11, 11]\",\"--models_to_save\",\"local\",\"--number_of_snakes\",\"4\",\"--print_score_steps\",\"10\",\"--qnetwork_type\",\"attention\",\"--repeat_size\",\"3\",\"--save_model_every\",\"700\",\"--seed\",\"111\",\"--sequence_length\",\"2\",\"--snake_representation\",\"bordered-51s\",\"--starting_channels\",\"6\",\"--state_type\",\"one_versus_all\"]\n",
      "\u001b[36m6wn8d4f6c5-algo-1-r8807 |\u001b[0m SM_OUTPUT_INTERMEDIATE_DIR=/opt/ml/output/intermediate\n",
      "\u001b[36m6wn8d4f6c5-algo-1-r8807 |\u001b[0m SM_HP_QNETWORK_TYPE=attention\n",
      "\u001b[36m6wn8d4f6c5-algo-1-r8807 |\u001b[0m SM_HP_SEED=111\n",
      "\u001b[36m6wn8d4f6c5-algo-1-r8807 |\u001b[0m SM_HP_NUMBER_OF_SNAKES=4\n",
      "\u001b[36m6wn8d4f6c5-algo-1-r8807 |\u001b[0m SM_HP_EPISODES=3500\n",
      "\u001b[36m6wn8d4f6c5-algo-1-r8807 |\u001b[0m SM_HP_PRINT_SCORE_STEPS=10\n",
      "\u001b[36m6wn8d4f6c5-algo-1-r8807 |\u001b[0m SM_HP_ACTIVATION_TYPE=softrelu\n",
      "\u001b[36m6wn8d4f6c5-algo-1-r8807 |\u001b[0m SM_HP_STATE_TYPE=one_versus_all\n",
      "\u001b[36m6wn8d4f6c5-algo-1-r8807 |\u001b[0m SM_HP_SEQUENCE_LENGTH=2\n",
      "\u001b[36m6wn8d4f6c5-algo-1-r8807 |\u001b[0m SM_HP_REPEAT_SIZE=3\n",
      "\u001b[36m6wn8d4f6c5-algo-1-r8807 |\u001b[0m SM_HP_KERNEL_SIZE=3\n",
      "\u001b[36m6wn8d4f6c5-algo-1-r8807 |\u001b[0m SM_HP_STARTING_CHANNELS=6\n",
      "\u001b[36m6wn8d4f6c5-algo-1-r8807 |\u001b[0m SM_HP_MAP_SIZE=[11, 11]\n",
      "\u001b[36m6wn8d4f6c5-algo-1-r8807 |\u001b[0m SM_HP_SNAKE_REPRESENTATION=bordered-51s\n",
      "\u001b[36m6wn8d4f6c5-algo-1-r8807 |\u001b[0m SM_HP_SAVE_MODEL_EVERY=700\n",
      "\u001b[36m6wn8d4f6c5-algo-1-r8807 |\u001b[0m SM_HP_EPS_START=0.99\n",
      "\u001b[36m6wn8d4f6c5-algo-1-r8807 |\u001b[0m SM_HP_MODELS_TO_SAVE=local\n",
      "\u001b[36m6wn8d4f6c5-algo-1-r8807 |\u001b[0m PYTHONPATH=/opt/ml/code:/usr/local/bin:/usr/local/lib/python36.zip:/usr/local/lib/python3.6:/usr/local/lib/python3.6/lib-dynload:/usr/local/lib/python3.6/site-packages\n",
      "\u001b[36m6wn8d4f6c5-algo-1-r8807 |\u001b[0m \n",
      "\u001b[36m6wn8d4f6c5-algo-1-r8807 |\u001b[0m Invoking script with the following command:\n",
      "\u001b[36m6wn8d4f6c5-algo-1-r8807 |\u001b[0m \n",
      "\u001b[36m6wn8d4f6c5-algo-1-r8807 |\u001b[0m /usr/local/bin/python3.6 -m train --activation_type softrelu --episodes 3500 --eps_start 0.99 --kernel_size 3 --map_size [11, 11] --models_to_save local --number_of_snakes 4 --print_score_steps 10 --qnetwork_type attention --repeat_size 3 --save_model_every 700 --seed 111 --sequence_length 2 --snake_representation bordered-51s --starting_channels 6 --state_type one_versus_all\n",
      "\u001b[36m6wn8d4f6c5-algo-1-r8807 |\u001b[0m \n",
      "\u001b[36m6wn8d4f6c5-algo-1-r8807 |\u001b[0m \n"
     ]
    },
    {
     "name": "stdout",
     "output_type": "stream",
     "text": [
      "\u001b[36m6wn8d4f6c5-algo-1-r8807 |\u001b[0m Running with seed = 111\n",
      "\u001b[36m6wn8d4f6c5-algo-1-r8807 |\u001b[0m Episode 10\tAverage Score: \t2.00\t1.40\t1.90\t1.10\tMean timesteps 3.00\n",
      "\u001b[36m6wn8d4f6c5-algo-1-r8807 |\u001b[0m Episode 20\tAverage Score: \t1.40\t1.50\t1.75\t1.45\tMean timesteps 2.90\n",
      "\u001b[36m6wn8d4f6c5-algo-1-r8807 |\u001b[0m Episode 30\tAverage Score: \t1.57\t1.77\t1.70\t1.43\tMean timesteps 2.97\n",
      "\u001b[36m6wn8d4f6c5-algo-1-r8807 |\u001b[0m Episode 40\tAverage Score: \t1.77\t1.93\t1.82\t1.55\tMean timesteps 3.23\n",
      "\u001b[36m6wn8d4f6c5-algo-1-r8807 |\u001b[0m Episode 50\tAverage Score: \t1.76\t1.88\t1.80\t1.68\tMean timesteps 3.22\n",
      "\u001b[36m6wn8d4f6c5-algo-1-r8807 |\u001b[0m Episode 60\tAverage Score: \t1.62\t1.93\t1.80\t1.68\tMean timesteps 3.17\n",
      "\u001b[36m6wn8d4f6c5-algo-1-r8807 |\u001b[0m Episode 70\tAverage Score: \t1.74\t1.89\t1.93\t1.80\tMean timesteps 3.36\n",
      "\u001b[36m6wn8d4f6c5-algo-1-r8807 |\u001b[0m Episode 80\tAverage Score: \t1.66\t1.88\t1.93\t1.75\tMean timesteps 3.31\n",
      "\u001b[36m6wn8d4f6c5-algo-1-r8807 |\u001b[0m Episode 90\tAverage Score: \t1.68\t1.93\t1.93\t1.80\tMean timesteps 3.34\n",
      "\u001b[36m6wn8d4f6c5-algo-1-r8807 |\u001b[0m Episode 100\tAverage Score: \t1.69\t1.94\t1.92\t1.81\tMean timesteps 3.35\n",
      "\u001b[36m6wn8d4f6c5-algo-1-r8807 |\u001b[0m Episode 110\tAverage Score: \t1.72\t2.01\t1.89\t1.94\tMean timesteps 3.40\n",
      "\u001b[36m6wn8d4f6c5-algo-1-r8807 |\u001b[0m Episode 120\tAverage Score: \t1.96\t2.04\t1.95\t1.98\tMean timesteps 3.51\n",
      "\u001b[36m6wn8d4f6c5-algo-1-r8807 |\u001b[0m Episode 130\tAverage Score: \t2.02\t2.03\t2.00\t2.06\tMean timesteps 3.61\n",
      "\u001b[36m6wn8d4f6c5-algo-1-r8807 |\u001b[0m Episode 140\tAverage Score: \t2.03\t2.02\t1.99\t2.10\tMean timesteps 3.62\n",
      "\u001b[36m6wn8d4f6c5-algo-1-r8807 |\u001b[0m Episode 150\tAverage Score: \t2.04\t1.99\t2.01\t2.05\tMean timesteps 3.62\n",
      "\u001b[36m6wn8d4f6c5-algo-1-r8807 |\u001b[0m Episode 160\tAverage Score: \t2.15\t1.87\t2.00\t2.07\tMean timesteps 3.63\n",
      "\u001b[36m6wn8d4f6c5-algo-1-r8807 |\u001b[0m Episode 170\tAverage Score: \t2.11\t1.92\t2.09\t1.93\tMean timesteps 3.59\n",
      "\u001b[36m6wn8d4f6c5-algo-1-r8807 |\u001b[0m Episode 180\tAverage Score: \t2.25\t1.85\t2.18\t2.06\tMean timesteps 3.67\n",
      "\u001b[36m6wn8d4f6c5-algo-1-r8807 |\u001b[0m Episode 190\tAverage Score: \t2.37\t1.74\t2.28\t2.04\tMean timesteps 3.74\n",
      "\u001b[36m6wn8d4f6c5-algo-1-r8807 |\u001b[0m Episode 200\tAverage Score: \t2.45\t1.73\t2.30\t2.07\tMean timesteps 3.77\n",
      "\u001b[36m6wn8d4f6c5-algo-1-r8807 |\u001b[0m Episode 210\tAverage Score: \t2.49\t1.68\t2.37\t2.04\tMean timesteps 3.80\n",
      "\u001b[36m6wn8d4f6c5-algo-1-r8807 |\u001b[0m Episode 220\tAverage Score: \t2.43\t1.75\t2.48\t2.13\tMean timesteps 3.89\n",
      "\u001b[36m6wn8d4f6c5-algo-1-r8807 |\u001b[0m Episode 230\tAverage Score: \t2.39\t1.75\t2.53\t2.15\tMean timesteps 3.89\n",
      "\u001b[36m6wn8d4f6c5-algo-1-r8807 |\u001b[0m Episode 240\tAverage Score: \t2.39\t1.76\t2.57\t2.14\tMean timesteps 3.89\n",
      "\u001b[36m6wn8d4f6c5-algo-1-r8807 |\u001b[0m Episode 250\tAverage Score: \t2.40\t1.84\t2.64\t2.15\tMean timesteps 3.96\n",
      "\u001b[36m6wn8d4f6c5-algo-1-r8807 |\u001b[0m Episode 260\tAverage Score: \t2.44\t1.93\t2.64\t2.13\tMean timesteps 4.01\n",
      "\u001b[36m6wn8d4f6c5-algo-1-r8807 |\u001b[0m Episode 270\tAverage Score: \t2.52\t1.93\t2.50\t2.27\tMean timesteps 4.03\n",
      "\u001b[36m6wn8d4f6c5-algo-1-r8807 |\u001b[0m Episode 280\tAverage Score: \t2.49\t2.16\t2.44\t2.32\tMean timesteps 4.11\n",
      "\u001b[36m6wn8d4f6c5-algo-1-r8807 |\u001b[0m Episode 290\tAverage Score: \t2.35\t2.34\t2.29\t2.42\tMean timesteps 4.09\n",
      "\u001b[36m6wn8d4f6c5-algo-1-r8807 |\u001b[0m Episode 300\tAverage Score: \t2.50\t2.39\t2.41\t2.48\tMean timesteps 4.27\n",
      "\u001b[36m6wn8d4f6c5-algo-1-r8807 |\u001b[0m Episode 310\tAverage Score: \t2.79\t2.67\t2.42\t2.66\tMean timesteps 4.58\n",
      "\u001b[36m6wn8d4f6c5-algo-1-r8807 |\u001b[0m Episode 320\tAverage Score: \t2.80\t2.70\t2.41\t2.89\tMean timesteps 4.72\n",
      "\u001b[36m6wn8d4f6c5-algo-1-r8807 |\u001b[0m Episode 330\tAverage Score: \t2.94\t2.74\t2.42\t2.81\tMean timesteps 4.76\n",
      "\u001b[36m6wn8d4f6c5-algo-1-r8807 |\u001b[0m Episode 340\tAverage Score: \t3.16\t2.73\t2.62\t2.99\tMean timesteps 4.97\n",
      "\u001b[36m6wn8d4f6c5-algo-1-r8807 |\u001b[0m Episode 350\tAverage Score: \t3.34\t2.75\t2.67\t3.07\tMean timesteps 5.09\n",
      "\u001b[36m6wn8d4f6c5-algo-1-r8807 |\u001b[0m Episode 360\tAverage Score: \t3.47\t2.76\t2.83\t3.25\tMean timesteps 5.22\n",
      "\u001b[36m6wn8d4f6c5-algo-1-r8807 |\u001b[0m Episode 370\tAverage Score: \t3.53\t2.88\t2.95\t3.23\tMean timesteps 5.28\n",
      "\u001b[36m6wn8d4f6c5-algo-1-r8807 |\u001b[0m Episode 380\tAverage Score: \t3.58\t2.88\t3.12\t3.30\tMean timesteps 5.40\n",
      "\u001b[36m6wn8d4f6c5-algo-1-r8807 |\u001b[0m Episode 390\tAverage Score: \t3.64\t2.82\t3.25\t3.31\tMean timesteps 5.43\n",
      "\u001b[36m6wn8d4f6c5-algo-1-r8807 |\u001b[0m Episode 400\tAverage Score: \t3.64\t3.11\t3.19\t3.42\tMean timesteps 5.56\n",
      "\u001b[36m6wn8d4f6c5-algo-1-r8807 |\u001b[0m Episode 410\tAverage Score: \t3.39\t3.03\t3.19\t3.31\tMean timesteps 5.41\n",
      "\u001b[36m6wn8d4f6c5-algo-1-r8807 |\u001b[0m Episode 420\tAverage Score: \t3.53\t3.19\t3.06\t3.16\tMean timesteps 5.39\n",
      "\u001b[36m6wn8d4f6c5-algo-1-r8807 |\u001b[0m Episode 430\tAverage Score: \t3.60\t3.16\t2.97\t3.40\tMean timesteps 5.49\n",
      "\u001b[36m6wn8d4f6c5-algo-1-r8807 |\u001b[0m Episode 440\tAverage Score: \t3.59\t3.29\t2.93\t3.40\tMean timesteps 5.51\n",
      "\u001b[36m6wn8d4f6c5-algo-1-r8807 |\u001b[0m Episode 450\tAverage Score: \t3.63\t3.30\t2.97\t3.49\tMean timesteps 5.56\n",
      "\u001b[36m6wn8d4f6c5-algo-1-r8807 |\u001b[0m Episode 460\tAverage Score: \t3.70\t3.40\t3.19\t3.49\tMean timesteps 5.74\n",
      "\u001b[36m6wn8d4f6c5-algo-1-r8807 |\u001b[0m Episode 470\tAverage Score: \t3.66\t3.38\t3.14\t3.56\tMean timesteps 5.77\n",
      "\u001b[36m6wn8d4f6c5-algo-1-r8807 |\u001b[0m Episode 480\tAverage Score: \t3.80\t3.48\t3.13\t3.44\tMean timesteps 5.80\n",
      "\u001b[36m6wn8d4f6c5-algo-1-r8807 |\u001b[0m Episode 490\tAverage Score: \t3.98\t3.60\t3.45\t3.55\tMean timesteps 6.07\n",
      "\u001b[36m6wn8d4f6c5-algo-1-r8807 |\u001b[0m Episode 500\tAverage Score: \t4.16\t3.59\t3.68\t3.51\tMean timesteps 6.13\n",
      "\u001b[36m6wn8d4f6c5-algo-1-r8807 |\u001b[0m Episode 510\tAverage Score: \t4.02\t3.57\t3.76\t3.73\tMean timesteps 6.21\n",
      "\u001b[36m6wn8d4f6c5-algo-1-r8807 |\u001b[0m Episode 520\tAverage Score: \t3.86\t3.55\t4.05\t3.92\tMean timesteps 6.30\n",
      "\u001b[36m6wn8d4f6c5-algo-1-r8807 |\u001b[0m Episode 530\tAverage Score: \t3.78\t3.81\t4.18\t3.90\tMean timesteps 6.36\n",
      "\u001b[36m6wn8d4f6c5-algo-1-r8807 |\u001b[0m Episode 540\tAverage Score: \t3.65\t3.96\t4.31\t3.94\tMean timesteps 6.47\n",
      "\u001b[36m6wn8d4f6c5-algo-1-r8807 |\u001b[0m Episode 550\tAverage Score: \t3.79\t4.10\t4.40\t4.05\tMean timesteps 6.64\n",
      "\u001b[36m6wn8d4f6c5-algo-1-r8807 |\u001b[0m Episode 560\tAverage Score: \t3.80\t4.14\t4.17\t4.00\tMean timesteps 6.54\n",
      "\u001b[36m6wn8d4f6c5-algo-1-r8807 |\u001b[0m Episode 570\tAverage Score: \t3.81\t4.18\t4.24\t4.20\tMean timesteps 6.59\n",
      "\u001b[36m6wn8d4f6c5-algo-1-r8807 |\u001b[0m Episode 580\tAverage Score: \t3.75\t4.14\t4.24\t4.23\tMean timesteps 6.59\n",
      "\u001b[36m6wn8d4f6c5-algo-1-r8807 |\u001b[0m Episode 590\tAverage Score: \t3.83\t4.15\t4.01\t4.15\tMean timesteps 6.52\n",
      "\u001b[36m6wn8d4f6c5-algo-1-r8807 |\u001b[0m Episode 600\tAverage Score: \t3.82\t4.19\t3.79\t4.30\tMean timesteps 6.53\n",
      "\u001b[36m6wn8d4f6c5-algo-1-r8807 |\u001b[0m Episode 610\tAverage Score: \t4.25\t4.57\t3.88\t4.36\tMean timesteps 6.79\n",
      "\u001b[36m6wn8d4f6c5-algo-1-r8807 |\u001b[0m Episode 620\tAverage Score: \t4.35\t4.52\t3.60\t4.18\tMean timesteps 6.66\n",
      "\u001b[36m6wn8d4f6c5-algo-1-r8807 |\u001b[0m Episode 630\tAverage Score: \t4.60\t4.55\t3.89\t4.42\tMean timesteps 6.86\n",
      "\u001b[36m6wn8d4f6c5-algo-1-r8807 |\u001b[0m Episode 640\tAverage Score: \t4.95\t4.78\t4.01\t4.56\tMean timesteps 7.11\n",
      "\u001b[36m6wn8d4f6c5-algo-1-r8807 |\u001b[0m Episode 650\tAverage Score: \t4.92\t5.09\t3.94\t4.56\tMean timesteps 7.23\n",
      "\u001b[36m6wn8d4f6c5-algo-1-r8807 |\u001b[0m Episode 660\tAverage Score: \t4.73\t5.38\t4.00\t4.90\tMean timesteps 7.45\n",
      "\u001b[36m6wn8d4f6c5-algo-1-r8807 |\u001b[0m Episode 670\tAverage Score: \t4.89\t5.69\t4.36\t5.09\tMean timesteps 7.82\n",
      "\u001b[36m6wn8d4f6c5-algo-1-r8807 |\u001b[0m Episode 680\tAverage Score: \t5.20\t6.09\t4.39\t5.58\tMean timesteps 8.32\n",
      "\u001b[36m6wn8d4f6c5-algo-1-r8807 |\u001b[0m Episode 690\tAverage Score: \t5.28\t6.38\t4.67\t5.82\tMean timesteps 8.62\n",
      "\u001b[36m6wn8d4f6c5-algo-1-r8807 |\u001b[0m Episode 700\tAverage Score: \t5.36\t6.66\t4.92\t5.99\tMean timesteps 8.92\n",
      "\u001b[36m6wn8d4f6c5-algo-1-r8807 |\u001b[0m Episode 710\tAverage Score: \t5.29\t6.47\t5.05\t6.22\tMean timesteps 8.98\n",
      "\u001b[36m6wn8d4f6c5-algo-1-r8807 |\u001b[0m Episode 720\tAverage Score: \t5.64\t6.69\t5.52\t6.52\tMean timesteps 9.47\n",
      "\u001b[36m6wn8d4f6c5-algo-1-r8807 |\u001b[0m Episode 730\tAverage Score: \t5.62\t6.73\t5.44\t6.70\tMean timesteps 9.56\n",
      "\u001b[36m6wn8d4f6c5-algo-1-r8807 |\u001b[0m Episode 740\tAverage Score: \t5.56\t6.60\t5.25\t6.55\tMean timesteps 9.38\n",
      "\u001b[36m6wn8d4f6c5-algo-1-r8807 |\u001b[0m Episode 750\tAverage Score: \t5.58\t6.48\t5.30\t6.73\tMean timesteps 9.33\n",
      "\u001b[36m6wn8d4f6c5-algo-1-r8807 |\u001b[0m Episode 760\tAverage Score: \t5.99\t6.37\t5.73\t6.61\tMean timesteps 9.56\n",
      "\u001b[36m6wn8d4f6c5-algo-1-r8807 |\u001b[0m Episode 770\tAverage Score: \t6.14\t6.47\t5.64\t6.56\tMean timesteps 9.76\n",
      "\u001b[36m6wn8d4f6c5-algo-1-r8807 |\u001b[0m Episode 780\tAverage Score: \t6.18\t6.30\t5.75\t6.65\tMean timesteps 9.73\n",
      "\u001b[36m6wn8d4f6c5-algo-1-r8807 |\u001b[0m Episode 790\tAverage Score: \t6.55\t6.23\t5.80\t6.64\tMean timesteps 9.95\n",
      "\u001b[36m6wn8d4f6c5-algo-1-r8807 |\u001b[0m Episode 800\tAverage Score: \t6.48\t6.18\t5.92\t6.73\tMean timesteps 10.07\n"
     ]
    },
    {
     "name": "stdout",
     "output_type": "stream",
     "text": [
      "\u001b[36m6wn8d4f6c5-algo-1-r8807 |\u001b[0m Episode 810\tAverage Score: \t6.60\t6.07\t5.87\t6.27\tMean timesteps 9.90\n",
      "\u001b[36m6wn8d4f6c5-algo-1-r8807 |\u001b[0m Episode 820\tAverage Score: \t6.81\t6.19\t6.08\t6.76\tMean timesteps 10.19\n",
      "\u001b[36m6wn8d4f6c5-algo-1-r8807 |\u001b[0m Episode 830\tAverage Score: \t7.00\t6.20\t6.20\t6.63\tMean timesteps 10.21\n",
      "\u001b[36m6wn8d4f6c5-algo-1-r8807 |\u001b[0m Episode 840\tAverage Score: \t7.21\t6.35\t6.29\t6.81\tMean timesteps 10.43\n",
      "\u001b[36m6wn8d4f6c5-algo-1-r8807 |\u001b[0m Episode 850\tAverage Score: \t7.47\t6.31\t6.47\t6.96\tMean timesteps 10.77\n",
      "\u001b[36m6wn8d4f6c5-algo-1-r8807 |\u001b[0m Episode 860\tAverage Score: \t7.58\t6.57\t6.52\t7.19\tMean timesteps 10.90\n",
      "\u001b[36m6wn8d4f6c5-algo-1-r8807 |\u001b[0m Episode 870\tAverage Score: \t7.58\t6.52\t6.58\t7.05\tMean timesteps 10.72\n",
      "\u001b[36m6wn8d4f6c5-algo-1-r8807 |\u001b[0m Episode 880\tAverage Score: \t7.84\t6.68\t6.66\t6.92\tMean timesteps 10.85\n",
      "\u001b[36m6wn8d4f6c5-algo-1-r8807 |\u001b[0m Episode 890\tAverage Score: \t7.51\t6.71\t6.69\t6.82\tMean timesteps 10.62\n",
      "\u001b[36m6wn8d4f6c5-algo-1-r8807 |\u001b[0m Episode 900\tAverage Score: \t7.72\t6.57\t6.69\t6.66\tMean timesteps 10.43\n",
      "\u001b[36m6wn8d4f6c5-algo-1-r8807 |\u001b[0m Episode 910\tAverage Score: \t7.90\t7.12\t6.92\t6.99\tMean timesteps 11.01\n",
      "\u001b[36m6wn8d4f6c5-algo-1-r8807 |\u001b[0m Episode 920\tAverage Score: \t8.11\t6.85\t6.89\t6.42\tMean timesteps 10.91\n",
      "\u001b[36m6wn8d4f6c5-algo-1-r8807 |\u001b[0m Episode 930\tAverage Score: \t8.28\t6.98\t6.74\t6.58\tMean timesteps 11.06\n",
      "\u001b[36m6wn8d4f6c5-algo-1-r8807 |\u001b[0m Episode 940\tAverage Score: \t8.44\t7.11\t7.26\t6.93\tMean timesteps 11.45\n",
      "\u001b[36m6wn8d4f6c5-algo-1-r8807 |\u001b[0m Episode 950\tAverage Score: \t8.58\t7.57\t7.82\t6.88\tMean timesteps 11.82\n",
      "\u001b[36m6wn8d4f6c5-algo-1-r8807 |\u001b[0m Episode 960\tAverage Score: \t8.65\t8.33\t8.01\t7.44\tMean timesteps 12.55\n",
      "\u001b[36m6wn8d4f6c5-algo-1-r8807 |\u001b[0m Episode 970\tAverage Score: \t8.65\t8.50\t7.94\t7.62\tMean timesteps 12.72\n",
      "\u001b[36m6wn8d4f6c5-algo-1-r8807 |\u001b[0m Episode 980\tAverage Score: \t8.37\t8.43\t8.37\t7.73\tMean timesteps 12.71\n",
      "\u001b[36m6wn8d4f6c5-algo-1-r8807 |\u001b[0m Episode 990\tAverage Score: \t9.09\t8.33\t8.33\t8.49\tMean timesteps 13.26\n",
      "\u001b[36m6wn8d4f6c5-algo-1-r8807 |\u001b[0m Episode 1000\tAverage Score: \t8.82\t8.37\t8.51\t8.92\tMean timesteps 13.44\n",
      "\u001b[36m6wn8d4f6c5-algo-1-r8807 |\u001b[0m Episode 1010\tAverage Score: \t8.85\t8.25\t8.59\t8.94\tMean timesteps 13.38\n",
      "\u001b[36m6wn8d4f6c5-algo-1-r8807 |\u001b[0m Episode 1020\tAverage Score: \t9.03\t8.60\t8.90\t9.60\tMean timesteps 13.94\n",
      "\u001b[36m6wn8d4f6c5-algo-1-r8807 |\u001b[0m Episode 1030\tAverage Score: \t8.86\t8.60\t8.97\t9.31\tMean timesteps 13.89\n",
      "\u001b[36m6wn8d4f6c5-algo-1-r8807 |\u001b[0m Episode 1040\tAverage Score: \t9.01\t8.59\t8.92\t9.10\tMean timesteps 14.00\n",
      "\u001b[36m6wn8d4f6c5-algo-1-r8807 |\u001b[0m Episode 1050\tAverage Score: \t9.07\t8.31\t8.75\t9.30\tMean timesteps 13.84\n",
      "\u001b[36m6wn8d4f6c5-algo-1-r8807 |\u001b[0m Episode 1060\tAverage Score: \t9.12\t7.83\t8.43\t8.66\tMean timesteps 13.26\n",
      "\u001b[36m6wn8d4f6c5-algo-1-r8807 |\u001b[0m Episode 1070\tAverage Score: \t9.87\t7.86\t8.72\t8.97\tMean timesteps 13.59\n",
      "\u001b[36m6wn8d4f6c5-algo-1-r8807 |\u001b[0m Episode 1080\tAverage Score: \t10.55\t8.01\t9.23\t8.87\tMean timesteps 13.99\n",
      "\u001b[36m6wn8d4f6c5-algo-1-r8807 |\u001b[0m Episode 1090\tAverage Score: \t10.14\t8.42\t9.68\t8.79\tMean timesteps 14.07\n",
      "\u001b[36m6wn8d4f6c5-algo-1-r8807 |\u001b[0m Episode 1100\tAverage Score: \t10.93\t8.55\t10.25\t8.36\tMean timesteps 14.56\n",
      "\u001b[36m6wn8d4f6c5-algo-1-r8807 |\u001b[0m Episode 1110\tAverage Score: \t10.73\t8.95\t10.54\t8.57\tMean timesteps 14.90\n",
      "\u001b[36m6wn8d4f6c5-algo-1-r8807 |\u001b[0m Episode 1120\tAverage Score: \t10.40\t9.04\t9.99\t8.19\tMean timesteps 14.29\n",
      "\u001b[36m6wn8d4f6c5-algo-1-r8807 |\u001b[0m Episode 1130\tAverage Score: \t10.73\t9.45\t10.38\t8.25\tMean timesteps 14.69\n",
      "\u001b[36m6wn8d4f6c5-algo-1-r8807 |\u001b[0m Episode 1140\tAverage Score: \t10.57\t9.17\t10.49\t8.02\tMean timesteps 14.40\n",
      "\u001b[36m6wn8d4f6c5-algo-1-r8807 |\u001b[0m Episode 1150\tAverage Score: \t11.18\t9.23\t10.87\t7.91\tMean timesteps 14.85\n",
      "\u001b[36m6wn8d4f6c5-algo-1-r8807 |\u001b[0m Episode 1160\tAverage Score: \t11.46\t8.75\t10.36\t8.11\tMean timesteps 14.87\n",
      "\u001b[36m6wn8d4f6c5-algo-1-r8807 |\u001b[0m Episode 1170\tAverage Score: \t10.88\t8.95\t10.33\t8.44\tMean timesteps 15.00\n",
      "\u001b[36m6wn8d4f6c5-algo-1-r8807 |\u001b[0m Episode 1180\tAverage Score: \t10.53\t9.05\t9.88\t9.00\tMean timesteps 15.07\n",
      "\u001b[36m6wn8d4f6c5-algo-1-r8807 |\u001b[0m Episode 1190\tAverage Score: \t10.04\t8.92\t9.53\t8.58\tMean timesteps 14.61\n",
      "\u001b[36m6wn8d4f6c5-algo-1-r8807 |\u001b[0m Episode 1200\tAverage Score: \t10.05\t9.19\t9.48\t9.27\tMean timesteps 14.81\n",
      "\u001b[36m6wn8d4f6c5-algo-1-r8807 |\u001b[0m Episode 1210\tAverage Score: \t11.06\t8.91\t9.77\t9.33\tMean timesteps 15.05\n",
      "\u001b[36m6wn8d4f6c5-algo-1-r8807 |\u001b[0m Episode 1220\tAverage Score: \t10.98\t9.64\t10.18\t9.73\tMean timesteps 15.69\n",
      "\u001b[36m6wn8d4f6c5-algo-1-r8807 |\u001b[0m Episode 1230\tAverage Score: \t11.30\t9.99\t10.58\t10.44\tMean timesteps 16.25\n",
      "\u001b[36m6wn8d4f6c5-algo-1-r8807 |\u001b[0m Episode 1240\tAverage Score: \t11.73\t10.94\t10.52\t11.83\tMean timesteps 17.38\n",
      "\u001b[36m6wn8d4f6c5-algo-1-r8807 |\u001b[0m Episode 1250\tAverage Score: \t12.08\t11.17\t9.98\t13.11\tMean timesteps 17.95\n",
      "\u001b[36m6wn8d4f6c5-algo-1-r8807 |\u001b[0m Episode 1260\tAverage Score: \t12.15\t12.39\t10.94\t13.65\tMean timesteps 18.82\n",
      "\u001b[36m6wn8d4f6c5-algo-1-r8807 |\u001b[0m Episode 1270\tAverage Score: \t12.83\t12.45\t11.47\t13.45\tMean timesteps 19.37\n",
      "\u001b[36m6wn8d4f6c5-algo-1-r8807 |\u001b[0m Episode 1280\tAverage Score: \t12.75\t12.69\t11.15\t12.79\tMean timesteps 19.07\n",
      "\u001b[36m6wn8d4f6c5-algo-1-r8807 |\u001b[0m Episode 1290\tAverage Score: \t13.04\t12.47\t11.14\t12.59\tMean timesteps 18.97\n",
      "\u001b[36m6wn8d4f6c5-algo-1-r8807 |\u001b[0m Episode 1300\tAverage Score: \t12.93\t12.79\t10.88\t12.73\tMean timesteps 19.08\n",
      "\u001b[36m6wn8d4f6c5-algo-1-r8807 |\u001b[0m Episode 1310\tAverage Score: \t11.95\t12.37\t10.34\t12.83\tMean timesteps 18.43\n",
      "\u001b[36m6wn8d4f6c5-algo-1-r8807 |\u001b[0m Episode 1320\tAverage Score: \t12.79\t11.97\t10.85\t12.14\tMean timesteps 18.67\n",
      "\u001b[36m6wn8d4f6c5-algo-1-r8807 |\u001b[0m Episode 1330\tAverage Score: \t13.67\t12.12\t10.68\t12.57\tMean timesteps 19.46\n",
      "\u001b[36m6wn8d4f6c5-algo-1-r8807 |\u001b[0m Episode 1340\tAverage Score: \t13.92\t11.39\t10.72\t11.96\tMean timesteps 18.92\n",
      "\u001b[36m6wn8d4f6c5-algo-1-r8807 |\u001b[0m Episode 1350\tAverage Score: \t13.20\t11.24\t11.03\t11.10\tMean timesteps 18.41\n",
      "\u001b[36m6wn8d4f6c5-algo-1-r8807 |\u001b[0m Episode 1360\tAverage Score: \t12.92\t10.17\t10.83\t10.84\tMean timesteps 17.86\n",
      "\u001b[36m6wn8d4f6c5-algo-1-r8807 |\u001b[0m Episode 1370\tAverage Score: \t12.67\t10.18\t10.17\t10.79\tMean timesteps 17.46\n",
      "\u001b[36m6wn8d4f6c5-algo-1-r8807 |\u001b[0m Episode 1380\tAverage Score: \t13.00\t10.13\t10.65\t10.61\tMean timesteps 17.59\n",
      "\u001b[36m6wn8d4f6c5-algo-1-r8807 |\u001b[0m Episode 1390\tAverage Score: \t13.44\t11.72\t10.79\t11.62\tMean timesteps 18.88\n",
      "\u001b[36m6wn8d4f6c5-algo-1-r8807 |\u001b[0m Episode 1400\tAverage Score: \t13.31\t11.40\t10.59\t11.54\tMean timesteps 18.71\n",
      "\u001b[36m6wn8d4f6c5-algo-1-r8807 |\u001b[0m Episode 1410\tAverage Score: \t13.77\t11.45\t10.43\t11.33\tMean timesteps 18.78\n",
      "\u001b[36m6wn8d4f6c5-algo-1-r8807 |\u001b[0m Episode 1420\tAverage Score: \t13.05\t11.23\t10.38\t11.92\tMean timesteps 18.46\n",
      "\u001b[36m6wn8d4f6c5-algo-1-r8807 |\u001b[0m Episode 1430\tAverage Score: \t11.53\t10.92\t10.28\t11.35\tMean timesteps 17.39\n",
      "\u001b[36m6wn8d4f6c5-algo-1-r8807 |\u001b[0m Episode 1440\tAverage Score: \t10.96\t11.42\t10.07\t11.25\tMean timesteps 17.29\n",
      "\u001b[36m6wn8d4f6c5-algo-1-r8807 |\u001b[0m Episode 1450\tAverage Score: \t10.63\t11.85\t10.03\t10.97\tMean timesteps 17.12\n",
      "\u001b[36m6wn8d4f6c5-algo-1-r8807 |\u001b[0m Episode 1460\tAverage Score: \t10.61\t11.82\t9.79\t10.66\tMean timesteps 16.78\n",
      "\u001b[36m6wn8d4f6c5-algo-1-r8807 |\u001b[0m Episode 1470\tAverage Score: \t10.46\t11.24\t10.67\t10.76\tMean timesteps 16.88\n",
      "\u001b[36m6wn8d4f6c5-algo-1-r8807 |\u001b[0m Episode 1480\tAverage Score: \t10.91\t11.58\t10.24\t11.42\tMean timesteps 17.38\n",
      "\u001b[36m6wn8d4f6c5-algo-1-r8807 |\u001b[0m Episode 1490\tAverage Score: \t10.62\t10.79\t9.92\t10.82\tMean timesteps 16.63\n",
      "\u001b[36m6wn8d4f6c5-algo-1-r8807 |\u001b[0m Episode 1500\tAverage Score: \t10.99\t10.84\t10.31\t10.77\tMean timesteps 16.87\n",
      "\u001b[36m6wn8d4f6c5-algo-1-r8807 |\u001b[0m Episode 1510\tAverage Score: \t11.37\t12.13\t11.34\t11.24\tMean timesteps 17.90\n",
      "\u001b[36m6wn8d4f6c5-algo-1-r8807 |\u001b[0m Episode 1520\tAverage Score: \t11.17\t12.56\t11.27\t11.30\tMean timesteps 18.03\n",
      "\u001b[36m6wn8d4f6c5-algo-1-r8807 |\u001b[0m Episode 1530\tAverage Score: \t11.53\t13.26\t11.34\t11.40\tMean timesteps 18.74\n",
      "\u001b[36m6wn8d4f6c5-algo-1-r8807 |\u001b[0m Episode 1540\tAverage Score: \t11.88\t14.27\t11.42\t11.64\tMean timesteps 19.69\n",
      "\u001b[36m6wn8d4f6c5-algo-1-r8807 |\u001b[0m Episode 1550\tAverage Score: \t12.51\t14.19\t12.20\t12.26\tMean timesteps 20.43\n",
      "\u001b[36m6wn8d4f6c5-algo-1-r8807 |\u001b[0m Episode 1560\tAverage Score: \t12.60\t14.45\t12.73\t12.43\tMean timesteps 20.80\n",
      "\u001b[36m6wn8d4f6c5-algo-1-r8807 |\u001b[0m Episode 1570\tAverage Score: \t13.01\t15.07\t12.72\t12.99\tMean timesteps 21.44\n"
     ]
    },
    {
     "name": "stdout",
     "output_type": "stream",
     "text": [
      "\u001b[36m6wn8d4f6c5-algo-1-r8807 |\u001b[0m Episode 1580\tAverage Score: \t12.63\t14.39\t13.34\t13.25\tMean timesteps 21.51\n",
      "\u001b[36m6wn8d4f6c5-algo-1-r8807 |\u001b[0m Episode 1590\tAverage Score: \t13.91\t14.18\t13.96\t13.95\tMean timesteps 22.29\n",
      "\u001b[36m6wn8d4f6c5-algo-1-r8807 |\u001b[0m Episode 1600\tAverage Score: \t14.07\t15.57\t13.55\t14.96\tMean timesteps 23.39\n",
      "\u001b[36m6wn8d4f6c5-algo-1-r8807 |\u001b[0m Episode 1610\tAverage Score: \t13.53\t14.49\t12.65\t14.30\tMean timesteps 22.37\n",
      "\u001b[36m6wn8d4f6c5-algo-1-r8807 |\u001b[0m Episode 1620\tAverage Score: \t14.51\t14.09\t13.32\t14.89\tMean timesteps 22.93\n",
      "\u001b[36m6wn8d4f6c5-algo-1-r8807 |\u001b[0m Episode 1630\tAverage Score: \t14.68\t13.39\t13.48\t15.05\tMean timesteps 22.53\n",
      "\u001b[36m6wn8d4f6c5-algo-1-r8807 |\u001b[0m Episode 1640\tAverage Score: \t15.40\t12.74\t14.14\t14.90\tMean timesteps 22.57\n",
      "\u001b[36m6wn8d4f6c5-algo-1-r8807 |\u001b[0m Episode 1650\tAverage Score: \t15.59\t13.07\t14.27\t14.54\tMean timesteps 22.79\n",
      "\u001b[36m6wn8d4f6c5-algo-1-r8807 |\u001b[0m Episode 1660\tAverage Score: \t15.99\t13.37\t14.61\t14.57\tMean timesteps 23.07\n",
      "\u001b[36m6wn8d4f6c5-algo-1-r8807 |\u001b[0m Episode 1670\tAverage Score: \t16.66\t13.87\t16.12\t14.88\tMean timesteps 24.14\n",
      "\u001b[36m6wn8d4f6c5-algo-1-r8807 |\u001b[0m Episode 1680\tAverage Score: \t17.38\t15.04\t16.37\t15.20\tMean timesteps 25.12\n",
      "\u001b[36m6wn8d4f6c5-algo-1-r8807 |\u001b[0m Episode 1690\tAverage Score: \t16.64\t16.44\t16.85\t15.81\tMean timesteps 26.21\n",
      "\u001b[36m6wn8d4f6c5-algo-1-r8807 |\u001b[0m Episode 1700\tAverage Score: \t17.00\t15.66\t16.91\t15.43\tMean timesteps 25.78\n",
      "\u001b[36m6wn8d4f6c5-algo-1-r8807 |\u001b[0m Episode 1710\tAverage Score: \t18.05\t16.47\t17.74\t16.42\tMean timesteps 27.10\n",
      "\u001b[36m6wn8d4f6c5-algo-1-r8807 |\u001b[0m Episode 1720\tAverage Score: \t17.17\t16.92\t18.31\t17.54\tMean timesteps 28.08\n",
      "\u001b[36m6wn8d4f6c5-algo-1-r8807 |\u001b[0m Episode 1730\tAverage Score: \t17.86\t17.17\t18.41\t18.30\tMean timesteps 28.69\n",
      "\u001b[36m6wn8d4f6c5-algo-1-r8807 |\u001b[0m Episode 1740\tAverage Score: \t16.84\t17.60\t17.80\t19.17\tMean timesteps 28.50\n",
      "\u001b[36m6wn8d4f6c5-algo-1-r8807 |\u001b[0m Episode 1750\tAverage Score: \t16.99\t18.16\t17.75\t20.18\tMean timesteps 28.93\n",
      "\u001b[36m6wn8d4f6c5-algo-1-r8807 |\u001b[0m Episode 1760\tAverage Score: \t18.18\t19.52\t17.44\t20.82\tMean timesteps 30.46\n",
      "\u001b[36m6wn8d4f6c5-algo-1-r8807 |\u001b[0m Episode 1770\tAverage Score: \t17.97\t19.33\t16.54\t20.53\tMean timesteps 29.80\n",
      "\u001b[36m6wn8d4f6c5-algo-1-r8807 |\u001b[0m Episode 1780\tAverage Score: \t17.24\t19.45\t17.09\t21.40\tMean timesteps 30.15\n",
      "\u001b[36m6wn8d4f6c5-algo-1-r8807 |\u001b[0m Episode 1790\tAverage Score: \t17.74\t19.56\t16.73\t22.83\tMean timesteps 30.80\n",
      "\u001b[36m6wn8d4f6c5-algo-1-r8807 |\u001b[0m Episode 1800\tAverage Score: \t16.83\t19.29\t17.47\t21.92\tMean timesteps 30.07\n",
      "\u001b[36m6wn8d4f6c5-algo-1-r8807 |\u001b[0m Episode 1810\tAverage Score: \t16.07\t18.61\t17.35\t22.00\tMean timesteps 29.53\n",
      "\u001b[36m6wn8d4f6c5-algo-1-r8807 |\u001b[0m Episode 1820\tAverage Score: \t16.64\t18.31\t16.46\t20.27\tMean timesteps 28.24\n",
      "\u001b[36m6wn8d4f6c5-algo-1-r8807 |\u001b[0m Episode 1830\tAverage Score: \t15.80\t18.14\t17.29\t19.28\tMean timesteps 27.95\n",
      "\u001b[36m6wn8d4f6c5-algo-1-r8807 |\u001b[0m Episode 1840\tAverage Score: \t15.83\t18.17\t18.21\t17.94\tMean timesteps 27.86\n",
      "\u001b[36m6wn8d4f6c5-algo-1-r8807 |\u001b[0m Episode 1850\tAverage Score: \t15.23\t17.70\t16.87\t17.40\tMean timesteps 26.95\n",
      "\u001b[36m6wn8d4f6c5-algo-1-r8807 |\u001b[0m Episode 1860\tAverage Score: \t14.04\t16.11\t16.55\t16.60\tMean timesteps 25.18\n",
      "\u001b[36m6wn8d4f6c5-algo-1-r8807 |\u001b[0m Episode 1870\tAverage Score: \t13.69\t15.95\t16.41\t16.57\tMean timesteps 25.01\n",
      "\u001b[36m6wn8d4f6c5-algo-1-r8807 |\u001b[0m Episode 1880\tAverage Score: \t13.35\t16.76\t15.70\t16.35\tMean timesteps 25.01\n",
      "\u001b[36m6wn8d4f6c5-algo-1-r8807 |\u001b[0m Episode 1890\tAverage Score: \t13.07\t14.89\t16.36\t14.42\tMean timesteps 23.29\n",
      "\u001b[36m6wn8d4f6c5-algo-1-r8807 |\u001b[0m Episode 1900\tAverage Score: \t14.21\t14.75\t16.71\t15.42\tMean timesteps 24.38\n",
      "\u001b[36m6wn8d4f6c5-algo-1-r8807 |\u001b[0m Episode 1910\tAverage Score: \t14.09\t15.65\t16.52\t15.66\tMean timesteps 24.68\n",
      "\u001b[36m6wn8d4f6c5-algo-1-r8807 |\u001b[0m Episode 1920\tAverage Score: \t14.16\t16.42\t16.03\t17.75\tMean timesteps 26.02\n",
      "\u001b[36m6wn8d4f6c5-algo-1-r8807 |\u001b[0m Episode 1930\tAverage Score: \t14.96\t16.92\t14.91\t19.51\tMean timesteps 27.02\n",
      "\u001b[36m6wn8d4f6c5-algo-1-r8807 |\u001b[0m Episode 1940\tAverage Score: \t15.01\t17.75\t15.79\t21.32\tMean timesteps 28.53\n",
      "\u001b[36m6wn8d4f6c5-algo-1-r8807 |\u001b[0m Episode 1950\tAverage Score: \t15.19\t18.24\t17.05\t22.16\tMean timesteps 29.57\n",
      "\u001b[36m6wn8d4f6c5-algo-1-r8807 |\u001b[0m Episode 1960\tAverage Score: \t15.40\t18.44\t18.32\t23.56\tMean timesteps 30.94\n",
      "\u001b[36m6wn8d4f6c5-algo-1-r8807 |\u001b[0m Episode 1970\tAverage Score: \t16.96\t20.27\t18.36\t24.33\tMean timesteps 33.07\n",
      "\u001b[36m6wn8d4f6c5-algo-1-r8807 |\u001b[0m Episode 1980\tAverage Score: \t18.43\t19.40\t18.91\t24.15\tMean timesteps 33.48\n",
      "\u001b[36m6wn8d4f6c5-algo-1-r8807 |\u001b[0m Episode 1990\tAverage Score: \t19.56\t20.66\t18.35\t25.39\tMean timesteps 35.16\n",
      "\u001b[36m6wn8d4f6c5-algo-1-r8807 |\u001b[0m Episode 2000\tAverage Score: \t18.50\t21.90\t18.03\t25.36\tMean timesteps 35.02\n",
      "\u001b[36m6wn8d4f6c5-algo-1-r8807 |\u001b[0m Episode 2010\tAverage Score: \t19.01\t22.49\t18.97\t24.87\tMean timesteps 35.77\n",
      "\u001b[36m6wn8d4f6c5-algo-1-r8807 |\u001b[0m Episode 2020\tAverage Score: \t18.68\t22.37\t19.47\t22.67\tMean timesteps 34.43\n",
      "\u001b[36m6wn8d4f6c5-algo-1-r8807 |\u001b[0m Episode 2030\tAverage Score: \t18.56\t22.47\t20.14\t22.25\tMean timesteps 34.23\n",
      "\u001b[36m6wn8d4f6c5-algo-1-r8807 |\u001b[0m Episode 2040\tAverage Score: \t20.49\t21.70\t20.26\t21.46\tMean timesteps 34.23\n",
      "\u001b[36m6wn8d4f6c5-algo-1-r8807 |\u001b[0m Episode 2050\tAverage Score: \t23.01\t23.40\t21.78\t20.88\tMean timesteps 36.59\n",
      "\u001b[36m6wn8d4f6c5-algo-1-r8807 |\u001b[0m Episode 2060\tAverage Score: \t22.70\t24.80\t21.42\t21.40\tMean timesteps 37.11\n",
      "\u001b[36m6wn8d4f6c5-algo-1-r8807 |\u001b[0m Episode 2070\tAverage Score: \t20.21\t24.39\t20.48\t21.09\tMean timesteps 35.09\n",
      "\u001b[36m6wn8d4f6c5-algo-1-r8807 |\u001b[0m Episode 2080\tAverage Score: \t19.48\t23.50\t20.62\t20.31\tMean timesteps 33.89\n",
      "\u001b[36m6wn8d4f6c5-algo-1-r8807 |\u001b[0m Episode 2090\tAverage Score: \t17.73\t23.00\t20.68\t18.77\tMean timesteps 32.10\n",
      "\u001b[36m6wn8d4f6c5-algo-1-r8807 |\u001b[0m Episode 2100\tAverage Score: \t18.27\t21.69\t21.21\t19.04\tMean timesteps 32.10\n",
      "\u001b[36m6wn8d4f6c5-algo-1-r8807 |\u001b[0m Episode 2110\tAverage Score: \t17.79\t21.66\t20.24\t20.47\tMean timesteps 32.14\n",
      "\u001b[36m6wn8d4f6c5-algo-1-r8807 |\u001b[0m Episode 2120\tAverage Score: \t19.72\t23.53\t22.08\t22.23\tMean timesteps 35.31\n",
      "\u001b[36m6wn8d4f6c5-algo-1-r8807 |\u001b[0m Episode 2130\tAverage Score: \t19.85\t23.67\t22.43\t21.37\tMean timesteps 35.47\n",
      "\u001b[36m6wn8d4f6c5-algo-1-r8807 |\u001b[0m Episode 2140\tAverage Score: \t18.16\t22.88\t20.76\t20.72\tMean timesteps 33.31\n",
      "\u001b[36m6wn8d4f6c5-algo-1-r8807 |\u001b[0m Episode 2150\tAverage Score: \t16.66\t21.50\t19.70\t20.35\tMean timesteps 31.15\n",
      "\u001b[36m6wn8d4f6c5-algo-1-r8807 |\u001b[0m Episode 2160\tAverage Score: \t17.42\t20.43\t19.52\t18.93\tMean timesteps 30.49\n",
      "\u001b[36m6wn8d4f6c5-algo-1-r8807 |\u001b[0m Episode 2170\tAverage Score: \t19.60\t19.71\t21.02\t18.19\tMean timesteps 31.33\n",
      "\u001b[36m6wn8d4f6c5-algo-1-r8807 |\u001b[0m Episode 2180\tAverage Score: \t19.05\t21.12\t20.47\t18.14\tMean timesteps 31.43\n",
      "\u001b[36m6wn8d4f6c5-algo-1-r8807 |\u001b[0m Episode 2190\tAverage Score: \t20.21\t20.81\t21.36\t18.94\tMean timesteps 32.58\n",
      "\u001b[36m6wn8d4f6c5-algo-1-r8807 |\u001b[0m Episode 2200\tAverage Score: \t19.58\t22.91\t20.99\t19.55\tMean timesteps 33.44\n",
      "\u001b[36m6wn8d4f6c5-algo-1-r8807 |\u001b[0m Episode 2210\tAverage Score: \t19.06\t22.11\t21.44\t18.78\tMean timesteps 32.79\n",
      "\u001b[36m6wn8d4f6c5-algo-1-r8807 |\u001b[0m Episode 2220\tAverage Score: \t18.61\t19.38\t19.72\t17.92\tMean timesteps 30.71\n",
      "\u001b[36m6wn8d4f6c5-algo-1-r8807 |\u001b[0m Episode 2230\tAverage Score: \t20.37\t19.83\t19.64\t18.05\tMean timesteps 31.30\n",
      "\u001b[36m6wn8d4f6c5-algo-1-r8807 |\u001b[0m Episode 2240\tAverage Score: \t20.98\t20.94\t20.32\t18.52\tMean timesteps 32.77\n",
      "\u001b[36m6wn8d4f6c5-algo-1-r8807 |\u001b[0m Episode 2250\tAverage Score: \t20.56\t20.50\t21.32\t20.40\tMean timesteps 33.73\n",
      "\u001b[36m6wn8d4f6c5-algo-1-r8807 |\u001b[0m Episode 2260\tAverage Score: \t19.94\t20.77\t22.71\t21.19\tMean timesteps 34.26\n",
      "\u001b[36m6wn8d4f6c5-algo-1-r8807 |\u001b[0m Episode 2270\tAverage Score: \t19.30\t21.83\t22.35\t21.49\tMean timesteps 34.51\n",
      "\u001b[36m6wn8d4f6c5-algo-1-r8807 |\u001b[0m Episode 2280\tAverage Score: \t19.56\t20.34\t22.48\t22.29\tMean timesteps 34.13\n",
      "\u001b[36m6wn8d4f6c5-algo-1-r8807 |\u001b[0m Episode 2290\tAverage Score: \t20.62\t21.22\t22.43\t21.51\tMean timesteps 34.03\n",
      "\u001b[36m6wn8d4f6c5-algo-1-r8807 |\u001b[0m Episode 2300\tAverage Score: \t21.66\t19.35\t21.53\t19.77\tMean timesteps 32.60\n",
      "\u001b[36m6wn8d4f6c5-algo-1-r8807 |\u001b[0m Episode 2310\tAverage Score: \t25.27\t20.86\t20.60\t19.61\tMean timesteps 34.47\n",
      "\u001b[36m6wn8d4f6c5-algo-1-r8807 |\u001b[0m Episode 2320\tAverage Score: \t24.56\t23.08\t20.96\t20.89\tMean timesteps 35.49\n",
      "\u001b[36m6wn8d4f6c5-algo-1-r8807 |\u001b[0m Episode 2330\tAverage Score: \t23.75\t23.88\t21.53\t21.76\tMean timesteps 36.38\n"
     ]
    },
    {
     "name": "stdout",
     "output_type": "stream",
     "text": [
      "\u001b[36m6wn8d4f6c5-algo-1-r8807 |\u001b[0m Episode 2340\tAverage Score: \t23.52\t23.47\t23.18\t23.60\tMean timesteps 37.33\n",
      "\u001b[36m6wn8d4f6c5-algo-1-r8807 |\u001b[0m Episode 2350\tAverage Score: \t26.19\t23.68\t22.51\t22.79\tMean timesteps 38.30\n",
      "\u001b[36m6wn8d4f6c5-algo-1-r8807 |\u001b[0m Episode 2360\tAverage Score: \t28.32\t24.37\t22.07\t24.20\tMean timesteps 39.58\n",
      "\u001b[36m6wn8d4f6c5-algo-1-r8807 |\u001b[0m Episode 2370\tAverage Score: \t28.85\t24.01\t23.58\t25.33\tMean timesteps 40.77\n",
      "\u001b[36m6wn8d4f6c5-algo-1-r8807 |\u001b[0m Episode 2380\tAverage Score: \t31.08\t26.25\t24.92\t26.27\tMean timesteps 43.53\n",
      "\u001b[36m6wn8d4f6c5-algo-1-r8807 |\u001b[0m Episode 2390\tAverage Score: \t30.84\t29.10\t26.54\t29.56\tMean timesteps 46.56\n",
      "\u001b[36m6wn8d4f6c5-algo-1-r8807 |\u001b[0m Episode 2400\tAverage Score: \t32.69\t32.90\t27.33\t32.86\tMean timesteps 50.55\n",
      "\u001b[36m6wn8d4f6c5-algo-1-r8807 |\u001b[0m Episode 2410\tAverage Score: \t31.85\t33.92\t29.11\t35.03\tMean timesteps 51.60\n",
      "\u001b[36m6wn8d4f6c5-algo-1-r8807 |\u001b[0m Episode 2420\tAverage Score: \t33.66\t34.90\t29.03\t35.09\tMean timesteps 53.14\n",
      "\u001b[36m6wn8d4f6c5-algo-1-r8807 |\u001b[0m Episode 2430\tAverage Score: \t34.73\t34.56\t31.62\t36.34\tMean timesteps 54.23\n",
      "\u001b[36m6wn8d4f6c5-algo-1-r8807 |\u001b[0m Episode 2440\tAverage Score: \t35.93\t34.89\t31.48\t36.76\tMean timesteps 55.14\n",
      "\u001b[36m6wn8d4f6c5-algo-1-r8807 |\u001b[0m Episode 2450\tAverage Score: \t34.24\t34.85\t31.77\t38.33\tMean timesteps 54.50\n",
      "\u001b[36m6wn8d4f6c5-algo-1-r8807 |\u001b[0m Episode 2460\tAverage Score: \t34.49\t35.77\t32.40\t37.76\tMean timesteps 55.20\n",
      "\u001b[36m6wn8d4f6c5-algo-1-r8807 |\u001b[0m Episode 2470\tAverage Score: \t37.06\t36.13\t34.09\t38.32\tMean timesteps 56.90\n",
      "\u001b[36m6wn8d4f6c5-algo-1-r8807 |\u001b[0m Episode 2480\tAverage Score: \t40.62\t36.47\t37.59\t40.63\tMean timesteps 60.75\n",
      "\u001b[36m6wn8d4f6c5-algo-1-r8807 |\u001b[0m Episode 2490\tAverage Score: \t41.01\t34.33\t36.87\t39.53\tMean timesteps 59.61\n",
      "\u001b[36m6wn8d4f6c5-algo-1-r8807 |\u001b[0m Episode 2500\tAverage Score: \t41.17\t34.54\t40.52\t41.08\tMean timesteps 60.81\n",
      "\u001b[36m6wn8d4f6c5-algo-1-r8807 |\u001b[0m Episode 2510\tAverage Score: \t40.85\t37.21\t41.94\t42.20\tMean timesteps 63.14\n",
      "\u001b[36m6wn8d4f6c5-algo-1-r8807 |\u001b[0m Episode 2520\tAverage Score: \t40.78\t39.03\t43.74\t44.69\tMean timesteps 64.94\n",
      "\u001b[36m6wn8d4f6c5-algo-1-r8807 |\u001b[0m Episode 2530\tAverage Score: \t41.18\t40.48\t43.47\t44.72\tMean timesteps 65.25\n",
      "\u001b[36m6wn8d4f6c5-algo-1-r8807 |\u001b[0m Episode 2540\tAverage Score: \t44.12\t43.05\t45.36\t45.35\tMean timesteps 68.06\n",
      "\u001b[36m6wn8d4f6c5-algo-1-r8807 |\u001b[0m Episode 2550\tAverage Score: \t43.96\t46.61\t45.46\t46.74\tMean timesteps 69.94\n",
      "\u001b[36m6wn8d4f6c5-algo-1-r8807 |\u001b[0m Episode 2560\tAverage Score: \t44.66\t47.46\t45.00\t47.74\tMean timesteps 70.79\n",
      "\u001b[36m6wn8d4f6c5-algo-1-r8807 |\u001b[0m Episode 2570\tAverage Score: \t46.07\t49.08\t44.40\t48.20\tMean timesteps 72.13\n",
      "\u001b[36m6wn8d4f6c5-algo-1-r8807 |\u001b[0m Episode 2580\tAverage Score: \t44.59\t49.81\t42.33\t48.34\tMean timesteps 71.58\n",
      "\u001b[36m6wn8d4f6c5-algo-1-r8807 |\u001b[0m Episode 2590\tAverage Score: \t45.86\t51.66\t44.19\t51.44\tMean timesteps 74.34\n",
      "\u001b[36m6wn8d4f6c5-algo-1-r8807 |\u001b[0m Episode 2600\tAverage Score: \t48.44\t52.37\t43.36\t49.39\tMean timesteps 74.86\n",
      "\u001b[36m6wn8d4f6c5-algo-1-r8807 |\u001b[0m Episode 2610\tAverage Score: \t53.20\t53.06\t44.57\t46.50\tMean timesteps 76.89\n",
      "\u001b[36m6wn8d4f6c5-algo-1-r8807 |\u001b[0m Episode 2620\tAverage Score: \t52.59\t52.94\t43.38\t44.83\tMean timesteps 75.40\n",
      "\u001b[36m6wn8d4f6c5-algo-1-r8807 |\u001b[0m Episode 2630\tAverage Score: \t55.15\t54.11\t45.57\t45.53\tMean timesteps 77.50\n",
      "\u001b[36m6wn8d4f6c5-algo-1-r8807 |\u001b[0m Episode 2640\tAverage Score: \t56.82\t53.25\t45.12\t48.16\tMean timesteps 79.14\n",
      "\u001b[36m6wn8d4f6c5-algo-1-r8807 |\u001b[0m Episode 2650\tAverage Score: \t57.38\t52.41\t46.65\t46.15\tMean timesteps 78.97\n",
      "\u001b[36m6wn8d4f6c5-algo-1-r8807 |\u001b[0m Episode 2660\tAverage Score: \t60.94\t54.18\t49.89\t45.62\tMean timesteps 81.59\n",
      "\u001b[36m6wn8d4f6c5-algo-1-r8807 |\u001b[0m Episode 2670\tAverage Score: \t59.77\t54.47\t49.04\t45.54\tMean timesteps 80.55\n",
      "\u001b[36m6wn8d4f6c5-algo-1-r8807 |\u001b[0m Episode 2680\tAverage Score: \t58.41\t54.31\t47.50\t45.83\tMean timesteps 78.88\n",
      "\u001b[36m6wn8d4f6c5-algo-1-r8807 |\u001b[0m Episode 2690\tAverage Score: \t58.62\t56.75\t47.86\t45.68\tMean timesteps 80.14\n",
      "\u001b[36m6wn8d4f6c5-algo-1-r8807 |\u001b[0m Episode 2700\tAverage Score: \t57.66\t55.90\t49.29\t45.34\tMean timesteps 79.17\n",
      "\u001b[36m6wn8d4f6c5-algo-1-r8807 |\u001b[0m Episode 2710\tAverage Score: \t53.22\t52.31\t50.39\t47.84\tMean timesteps 76.85\n",
      "\u001b[36m6wn8d4f6c5-algo-1-r8807 |\u001b[0m Episode 2720\tAverage Score: \t58.84\t52.37\t53.80\t47.72\tMean timesteps 80.79\n",
      "\u001b[36m6wn8d4f6c5-algo-1-r8807 |\u001b[0m Episode 2730\tAverage Score: \t55.26\t53.16\t51.65\t46.58\tMean timesteps 80.06\n",
      "\u001b[36m6wn8d4f6c5-algo-1-r8807 |\u001b[0m Episode 2740\tAverage Score: \t52.86\t58.21\t49.68\t48.73\tMean timesteps 81.46\n",
      "\u001b[36m6wn8d4f6c5-algo-1-r8807 |\u001b[0m Episode 2750\tAverage Score: \t55.63\t60.13\t52.69\t50.70\tMean timesteps 85.43\n",
      "\u001b[36m6wn8d4f6c5-algo-1-r8807 |\u001b[0m Episode 2760\tAverage Score: \t50.83\t59.52\t49.28\t52.99\tMean timesteps 83.40\n",
      "\u001b[36m6wn8d4f6c5-algo-1-r8807 |\u001b[0m Episode 2770\tAverage Score: \t49.40\t63.17\t51.75\t56.87\tMean timesteps 86.98\n",
      "\u001b[36m6wn8d4f6c5-algo-1-r8807 |\u001b[0m Episode 2780\tAverage Score: \t48.67\t66.11\t57.20\t55.12\tMean timesteps 89.40\n",
      "\u001b[36m6wn8d4f6c5-algo-1-r8807 |\u001b[0m Episode 2790\tAverage Score: \t49.66\t65.82\t59.53\t51.75\tMean timesteps 89.82\n",
      "\u001b[36m6wn8d4f6c5-algo-1-r8807 |\u001b[0m Episode 2800\tAverage Score: \t51.05\t64.52\t60.25\t53.66\tMean timesteps 92.13\n",
      "\u001b[36m6wn8d4f6c5-algo-1-r8807 |\u001b[0m Episode 2810\tAverage Score: \t52.70\t67.12\t57.99\t54.99\tMean timesteps 93.49\n",
      "\u001b[36m6wn8d4f6c5-algo-1-r8807 |\u001b[0m Episode 2820\tAverage Score: \t48.53\t67.64\t55.08\t56.93\tMean timesteps 91.77\n",
      "\u001b[36m6wn8d4f6c5-algo-1-r8807 |\u001b[0m Episode 2830\tAverage Score: \t49.19\t65.85\t56.99\t55.57\tMean timesteps 91.72\n",
      "\u001b[36m6wn8d4f6c5-algo-1-r8807 |\u001b[0m Episode 2840\tAverage Score: \t49.59\t63.91\t57.60\t52.94\tMean timesteps 90.00\n",
      "\u001b[36m6wn8d4f6c5-algo-1-r8807 |\u001b[0m Episode 2850\tAverage Score: \t47.98\t61.64\t56.62\t54.41\tMean timesteps 88.92\n",
      "\u001b[36m6wn8d4f6c5-algo-1-r8807 |\u001b[0m Episode 2860\tAverage Score: \t50.53\t65.04\t64.79\t55.33\tMean timesteps 94.10\n",
      "\u001b[36m6wn8d4f6c5-algo-1-r8807 |\u001b[0m Episode 2870\tAverage Score: \t50.15\t60.77\t63.46\t50.82\tMean timesteps 89.53\n",
      "\u001b[36m6wn8d4f6c5-algo-1-r8807 |\u001b[0m Episode 2880\tAverage Score: \t54.16\t61.14\t61.78\t51.25\tMean timesteps 90.50\n",
      "\u001b[36m6wn8d4f6c5-algo-1-r8807 |\u001b[0m Episode 2890\tAverage Score: \t54.54\t59.83\t58.00\t53.81\tMean timesteps 89.29\n",
      "\u001b[36m6wn8d4f6c5-algo-1-r8807 |\u001b[0m Episode 2900\tAverage Score: \t50.21\t63.48\t57.15\t53.26\tMean timesteps 88.71\n",
      "\u001b[36m6wn8d4f6c5-algo-1-r8807 |\u001b[0m Episode 2910\tAverage Score: \t53.56\t61.79\t58.58\t52.27\tMean timesteps 88.75\n",
      "\u001b[36m6wn8d4f6c5-algo-1-r8807 |\u001b[0m Episode 2920\tAverage Score: \t55.59\t61.59\t61.89\t50.10\tMean timesteps 89.67\n",
      "\u001b[36m6wn8d4f6c5-algo-1-r8807 |\u001b[0m Episode 2930\tAverage Score: \t57.18\t62.30\t64.44\t56.91\tMean timesteps 94.19\n",
      "\u001b[36m6wn8d4f6c5-algo-1-r8807 |\u001b[0m Episode 2940\tAverage Score: \t58.41\t60.82\t67.55\t58.38\tMean timesteps 95.99\n",
      "\u001b[36m6wn8d4f6c5-algo-1-r8807 |\u001b[0m Episode 2950\tAverage Score: \t58.45\t62.48\t67.01\t58.31\tMean timesteps 95.43\n",
      "\u001b[36m6wn8d4f6c5-algo-1-r8807 |\u001b[0m Episode 2960\tAverage Score: \t59.86\t60.54\t65.55\t56.25\tMean timesteps 93.72\n",
      "\u001b[36m6wn8d4f6c5-algo-1-r8807 |\u001b[0m Episode 2970\tAverage Score: \t64.86\t60.64\t64.11\t61.52\tMean timesteps 97.80\n",
      "\u001b[36m6wn8d4f6c5-algo-1-r8807 |\u001b[0m Episode 2980\tAverage Score: \t60.03\t55.39\t60.95\t62.27\tMean timesteps 93.30\n",
      "\u001b[36m6wn8d4f6c5-algo-1-r8807 |\u001b[0m Episode 2990\tAverage Score: \t59.41\t54.84\t61.63\t61.56\tMean timesteps 92.83\n",
      "\u001b[36m6wn8d4f6c5-algo-1-r8807 |\u001b[0m Episode 3000\tAverage Score: \t61.19\t49.91\t61.29\t62.31\tMean timesteps 91.39\n",
      "\u001b[36m6wn8d4f6c5-algo-1-r8807 |\u001b[0m Episode 3010\tAverage Score: \t57.39\t50.83\t60.00\t62.84\tMean timesteps 89.99\n",
      "\u001b[36m6wn8d4f6c5-algo-1-r8807 |\u001b[0m Episode 3020\tAverage Score: \t56.51\t53.51\t64.13\t65.57\tMean timesteps 93.33\n",
      "\u001b[36m6wn8d4f6c5-algo-1-r8807 |\u001b[0m Episode 3030\tAverage Score: \t59.87\t52.07\t63.08\t64.81\tMean timesteps 92.09\n",
      "\u001b[36m6wn8d4f6c5-algo-1-r8807 |\u001b[0m Episode 3040\tAverage Score: \t58.28\t52.69\t62.34\t61.34\tMean timesteps 89.79\n",
      "\u001b[36m6wn8d4f6c5-algo-1-r8807 |\u001b[0m Episode 3050\tAverage Score: \t57.80\t49.49\t64.59\t61.72\tMean timesteps 90.32\n",
      "\u001b[36m6wn8d4f6c5-algo-1-r8807 |\u001b[0m Episode 3060\tAverage Score: \t57.41\t50.03\t61.27\t63.08\tMean timesteps 89.46\n",
      "\u001b[36m6wn8d4f6c5-algo-1-r8807 |\u001b[0m Episode 3070\tAverage Score: \t55.53\t54.58\t61.78\t60.58\tMean timesteps 89.49\n",
      "\u001b[36m6wn8d4f6c5-algo-1-r8807 |\u001b[0m Episode 3080\tAverage Score: \t59.15\t60.40\t65.99\t64.22\tMean timesteps 95.51\n",
      "\u001b[36m6wn8d4f6c5-algo-1-r8807 |\u001b[0m Episode 3090\tAverage Score: \t63.96\t62.78\t69.95\t67.22\tMean timesteps 100.65\n"
     ]
    },
    {
     "name": "stdout",
     "output_type": "stream",
     "text": [
      "\u001b[36m6wn8d4f6c5-algo-1-r8807 |\u001b[0m Episode 3100\tAverage Score: \t65.10\t65.44\t69.18\t65.81\tMean timesteps 101.49\n",
      "\u001b[36m6wn8d4f6c5-algo-1-r8807 |\u001b[0m Episode 3110\tAverage Score: \t68.31\t66.68\t71.64\t67.69\tMean timesteps 104.50\n",
      "\u001b[36m6wn8d4f6c5-algo-1-r8807 |\u001b[0m Episode 3120\tAverage Score: \t69.53\t61.38\t65.69\t68.01\tMean timesteps 101.20\n",
      "\u001b[36m6wn8d4f6c5-algo-1-r8807 |\u001b[0m Episode 3130\tAverage Score: \t70.51\t63.21\t64.46\t66.40\tMean timesteps 101.90\n",
      "\u001b[36m6wn8d4f6c5-algo-1-r8807 |\u001b[0m Episode 3140\tAverage Score: \t71.50\t63.68\t62.84\t65.27\tMean timesteps 100.71\n",
      "\u001b[36m6wn8d4f6c5-algo-1-r8807 |\u001b[0m Episode 3150\tAverage Score: \t72.24\t71.49\t59.29\t66.96\tMean timesteps 103.22\n",
      "\u001b[36m6wn8d4f6c5-algo-1-r8807 |\u001b[0m Episode 3160\tAverage Score: \t71.50\t69.50\t60.82\t67.03\tMean timesteps 103.68\n",
      "\u001b[36m6wn8d4f6c5-algo-1-r8807 |\u001b[0m Episode 3170\tAverage Score: \t70.12\t67.40\t64.58\t68.17\tMean timesteps 103.71\n",
      "\u001b[36m6wn8d4f6c5-algo-1-r8807 |\u001b[0m Episode 3180\tAverage Score: \t72.53\t65.46\t63.09\t64.18\tMean timesteps 102.26\n",
      "\u001b[36m6wn8d4f6c5-algo-1-r8807 |\u001b[0m Episode 3190\tAverage Score: \t70.47\t65.19\t60.14\t64.91\tMean timesteps 100.05\n",
      "\u001b[36m6wn8d4f6c5-algo-1-r8807 |\u001b[0m Episode 3200\tAverage Score: \t73.03\t66.04\t63.10\t67.50\tMean timesteps 103.15\n",
      "\u001b[36m6wn8d4f6c5-algo-1-r8807 |\u001b[0m Episode 3210\tAverage Score: \t69.96\t67.12\t61.07\t66.89\tMean timesteps 102.13\n",
      "\u001b[36m6wn8d4f6c5-algo-1-r8807 |\u001b[0m Episode 3220\tAverage Score: \t72.05\t70.59\t60.40\t66.44\tMean timesteps 102.80\n",
      "\u001b[36m6wn8d4f6c5-algo-1-r8807 |\u001b[0m Episode 3230\tAverage Score: \t68.83\t74.94\t61.59\t65.63\tMean timesteps 102.43\n",
      "\u001b[36m6wn8d4f6c5-algo-1-r8807 |\u001b[0m Episode 3240\tAverage Score: \t66.87\t72.41\t60.65\t64.34\tMean timesteps 100.50\n",
      "\u001b[36m6wn8d4f6c5-algo-1-r8807 |\u001b[0m Episode 3250\tAverage Score: \t68.96\t70.05\t62.32\t61.42\tMean timesteps 98.40\n",
      "\u001b[36m6wn8d4f6c5-algo-1-r8807 |\u001b[0m Episode 3260\tAverage Score: \t72.59\t70.58\t62.73\t60.79\tMean timesteps 100.00\n",
      "\u001b[36m6wn8d4f6c5-algo-1-r8807 |\u001b[0m Episode 3270\tAverage Score: \t73.84\t73.14\t63.35\t64.65\tMean timesteps 103.60\n",
      "\u001b[36m6wn8d4f6c5-algo-1-r8807 |\u001b[0m Episode 3280\tAverage Score: \t71.81\t77.52\t64.37\t67.43\tMean timesteps 106.31\n",
      "\u001b[36m6wn8d4f6c5-algo-1-r8807 |\u001b[0m Episode 3290\tAverage Score: \t72.17\t77.81\t64.02\t67.12\tMean timesteps 107.16\n",
      "\u001b[36m6wn8d4f6c5-algo-1-r8807 |\u001b[0m Episode 3300\tAverage Score: \t73.93\t78.97\t63.28\t65.59\tMean timesteps 106.99\n",
      "\u001b[36m6wn8d4f6c5-algo-1-r8807 |\u001b[0m Episode 3310\tAverage Score: \t77.28\t81.60\t67.19\t65.77\tMean timesteps 110.95\n",
      "\u001b[36m6wn8d4f6c5-algo-1-r8807 |\u001b[0m Episode 3320\tAverage Score: \t76.92\t80.01\t70.63\t64.35\tMean timesteps 111.24\n",
      "\u001b[36m6wn8d4f6c5-algo-1-r8807 |\u001b[0m Episode 3330\tAverage Score: \t77.53\t77.34\t68.79\t65.26\tMean timesteps 111.03\n",
      "\u001b[36m6wn8d4f6c5-algo-1-r8807 |\u001b[0m Episode 3340\tAverage Score: \t80.69\t77.50\t73.53\t70.18\tMean timesteps 115.47\n",
      "\u001b[36m6wn8d4f6c5-algo-1-r8807 |\u001b[0m Episode 3350\tAverage Score: \t81.14\t77.92\t76.55\t72.37\tMean timesteps 118.15\n",
      "\u001b[36m6wn8d4f6c5-algo-1-r8807 |\u001b[0m Episode 3360\tAverage Score: \t79.88\t78.14\t71.84\t72.30\tMean timesteps 115.22\n",
      "\u001b[36m6wn8d4f6c5-algo-1-r8807 |\u001b[0m Episode 3370\tAverage Score: \t79.52\t77.45\t70.87\t66.16\tMean timesteps 111.82\n",
      "\u001b[36m6wn8d4f6c5-algo-1-r8807 |\u001b[0m Episode 3380\tAverage Score: \t81.67\t75.60\t72.11\t65.89\tMean timesteps 110.11\n",
      "\u001b[36m6wn8d4f6c5-algo-1-r8807 |\u001b[0m Episode 3390\tAverage Score: \t78.46\t75.00\t73.08\t65.50\tMean timesteps 108.31\n",
      "\u001b[36m6wn8d4f6c5-algo-1-r8807 |\u001b[0m Episode 3400\tAverage Score: \t76.63\t74.01\t76.34\t71.03\tMean timesteps 110.41\n",
      "\u001b[36m6wn8d4f6c5-algo-1-r8807 |\u001b[0m Episode 3410\tAverage Score: \t75.26\t70.01\t76.02\t72.03\tMean timesteps 108.39\n",
      "\u001b[36m6wn8d4f6c5-algo-1-r8807 |\u001b[0m Episode 3420\tAverage Score: \t70.66\t69.75\t75.66\t74.55\tMean timesteps 107.85\n",
      "\u001b[36m6wn8d4f6c5-algo-1-r8807 |\u001b[0m Episode 3430\tAverage Score: \t68.39\t70.49\t76.13\t76.28\tMean timesteps 107.56\n",
      "\u001b[36m6wn8d4f6c5-algo-1-r8807 |\u001b[0m Episode 3440\tAverage Score: \t68.59\t79.11\t80.36\t72.99\tMean timesteps 112.38\n",
      "\u001b[36m6wn8d4f6c5-algo-1-r8807 |\u001b[0m Episode 3450\tAverage Score: \t69.98\t76.88\t75.44\t73.01\tMean timesteps 110.45\n",
      "\u001b[36m6wn8d4f6c5-algo-1-r8807 |\u001b[0m Episode 3460\tAverage Score: \t69.97\t79.32\t80.31\t75.66\tMean timesteps 114.93\n",
      "\u001b[36m6wn8d4f6c5-algo-1-r8807 |\u001b[0m Episode 3470\tAverage Score: \t70.49\t79.34\t81.51\t78.06\tMean timesteps 116.29\n",
      "\u001b[36m6wn8d4f6c5-algo-1-r8807 |\u001b[0m Episode 3480\tAverage Score: \t67.43\t78.79\t77.03\t79.78\tMean timesteps 115.91\n",
      "\u001b[36m6wn8d4f6c5-algo-1-r8807 |\u001b[0m Episode 3490\tAverage Score: \t71.83\t77.30\t78.51\t80.24\tMean timesteps 117.83\n",
      "\u001b[36m6wn8d4f6c5-algo-1-r8807 |\u001b[0m Episode 3500\tAverage Score: \t72.90\t80.50\t76.51\t79.07\tMean timesteps 117.35\n",
      "\u001b[36m6wn8d4f6c5-algo-1-r8807 |\u001b[0m 2021-08-07 20:44:46,128 sagemaker-training-toolkit INFO     Reporting training SUCCESS\n",
      "\u001b[36m6wn8d4f6c5-algo-1-r8807 exited with code 0\n",
      "\u001b[0mAborting on container exit...\n",
      "===== Job Complete =====\n"
     ]
    }
   ],
   "source": [
    "estimator = MXNet(entry_point=\"train.py\",\n",
    "                  source_dir='training/training_src',\n",
    "                  dependencies=[\"../BattlesnakeGym/\"],\n",
    "                  role=role,\n",
    "                  train_instance_type=train_instance_type,\n",
    "                  train_instance_count=1,\n",
    "                  output_path=s3_output_path,\n",
    "                  framework_version=\"1.6.0\",\n",
    "                  py_version='py3',\n",
    "                  base_job_name=job_name_prefix,\n",
    "                  metric_definitions=metric_definitions,\n",
    "                  hyperparameters=static_hyperparameters\n",
    "                 )\n",
    "if local_mode:\n",
    "    estimator.fit()"
   ]
  },
  {
   "cell_type": "markdown",
   "metadata": {},
   "source": [
    "# Running hyperparameter optimisation\n",
    "Start the Hyperparameter optimisation sagemaker jobs!\n",
    "HPO will run if `run_hpo == True`. You can view the training progress in SageMaker > Training > Hyperparameter tuning jobs. Please note that this runs a couple of instances and could be costly."
   ]
  },
  {
   "cell_type": "code",
   "execution_count": 13,
   "metadata": {},
   "outputs": [],
   "source": [
    "hyperparameter_ranges = {\n",
    "#     'buffer_size': IntegerParameter(1000, 6000),\n",
    "#     'update_every': IntegerParameter(10, 20),\n",
    "    'batch_size': IntegerParameter(128,128),\n",
    "\n",
    "    'lr_start': ContinuousParameter(1e-5, 1e-3),\n",
    "    'lr_factor': ContinuousParameter(0.5, 1.0),\n",
    "    'lr_step': IntegerParameter(5000, 30000),\n",
    "    \n",
    "    'tau': ContinuousParameter(1e-4, 1e-3),\n",
    "    'gamma': ContinuousParameter(0.90, 0.99),\n",
    "    \n",
    "    'depth': IntegerParameter(64, 256),\n",
    "    'depthS': IntegerParameter(64, 256),\n",
    "}\n",
    "run_hpo=False"
   ]
  },
  {
   "cell_type": "code",
   "execution_count": 14,
   "metadata": {},
   "outputs": [
    {
     "ename": "AttributeError",
     "evalue": "'LocalSagemakerClient' object has no attribute 'create_hyper_parameter_tuning_job'",
     "output_type": "error",
     "traceback": [
      "\u001b[0;31m---------------------------------------------------------------------------\u001b[0m",
      "\u001b[0;31mAttributeError\u001b[0m                            Traceback (most recent call last)",
      "\u001b[0;32m<ipython-input-14-8a0828765039>\u001b[0m in \u001b[0;36m<module>\u001b[0;34m\u001b[0m\n\u001b[1;32m     11\u001b[0m                             base_tuning_job_name=job_name_prefix)\n\u001b[1;32m     12\u001b[0m \u001b[0;32mif\u001b[0m \u001b[0mrun_hpo\u001b[0m\u001b[0;34m:\u001b[0m\u001b[0;34m\u001b[0m\u001b[0;34m\u001b[0m\u001b[0m\n\u001b[0;32m---> 13\u001b[0;31m     \u001b[0mtuner\u001b[0m\u001b[0;34m.\u001b[0m\u001b[0mfit\u001b[0m\u001b[0;34m(\u001b[0m\u001b[0;34m)\u001b[0m\u001b[0;34m\u001b[0m\u001b[0;34m\u001b[0m\u001b[0m\n\u001b[0m",
      "\u001b[0;32m~/anaconda3/envs/mxnet_p36/lib/python3.6/site-packages/sagemaker/tuner.py\u001b[0m in \u001b[0;36mfit\u001b[0;34m(self, inputs, job_name, include_cls_metadata, estimator_kwargs, wait, **kwargs)\u001b[0m\n\u001b[1;32m    442\u001b[0m         \"\"\"\n\u001b[1;32m    443\u001b[0m         \u001b[0;32mif\u001b[0m \u001b[0mself\u001b[0m\u001b[0;34m.\u001b[0m\u001b[0mestimator\u001b[0m \u001b[0;32mis\u001b[0m \u001b[0;32mnot\u001b[0m \u001b[0;32mNone\u001b[0m\u001b[0;34m:\u001b[0m\u001b[0;34m\u001b[0m\u001b[0;34m\u001b[0m\u001b[0m\n\u001b[0;32m--> 444\u001b[0;31m             \u001b[0mself\u001b[0m\u001b[0;34m.\u001b[0m\u001b[0m_fit_with_estimator\u001b[0m\u001b[0;34m(\u001b[0m\u001b[0minputs\u001b[0m\u001b[0;34m,\u001b[0m \u001b[0mjob_name\u001b[0m\u001b[0;34m,\u001b[0m \u001b[0minclude_cls_metadata\u001b[0m\u001b[0;34m,\u001b[0m \u001b[0;34m**\u001b[0m\u001b[0mkwargs\u001b[0m\u001b[0;34m)\u001b[0m\u001b[0;34m\u001b[0m\u001b[0;34m\u001b[0m\u001b[0m\n\u001b[0m\u001b[1;32m    445\u001b[0m         \u001b[0;32melse\u001b[0m\u001b[0;34m:\u001b[0m\u001b[0;34m\u001b[0m\u001b[0;34m\u001b[0m\u001b[0m\n\u001b[1;32m    446\u001b[0m             \u001b[0mself\u001b[0m\u001b[0;34m.\u001b[0m\u001b[0m_fit_with_estimator_dict\u001b[0m\u001b[0;34m(\u001b[0m\u001b[0minputs\u001b[0m\u001b[0;34m,\u001b[0m \u001b[0mjob_name\u001b[0m\u001b[0;34m,\u001b[0m \u001b[0minclude_cls_metadata\u001b[0m\u001b[0;34m,\u001b[0m \u001b[0mestimator_kwargs\u001b[0m\u001b[0;34m)\u001b[0m\u001b[0;34m\u001b[0m\u001b[0;34m\u001b[0m\u001b[0m\n",
      "\u001b[0;32m~/anaconda3/envs/mxnet_p36/lib/python3.6/site-packages/sagemaker/tuner.py\u001b[0m in \u001b[0;36m_fit_with_estimator\u001b[0;34m(self, inputs, job_name, include_cls_metadata, **kwargs)\u001b[0m\n\u001b[1;32m    453\u001b[0m         \u001b[0mself\u001b[0m\u001b[0;34m.\u001b[0m\u001b[0m_prepare_estimator_for_tuning\u001b[0m\u001b[0;34m(\u001b[0m\u001b[0mself\u001b[0m\u001b[0;34m.\u001b[0m\u001b[0mestimator\u001b[0m\u001b[0;34m,\u001b[0m \u001b[0minputs\u001b[0m\u001b[0;34m,\u001b[0m \u001b[0mjob_name\u001b[0m\u001b[0;34m,\u001b[0m \u001b[0;34m**\u001b[0m\u001b[0mkwargs\u001b[0m\u001b[0;34m)\u001b[0m\u001b[0;34m\u001b[0m\u001b[0;34m\u001b[0m\u001b[0m\n\u001b[1;32m    454\u001b[0m         \u001b[0mself\u001b[0m\u001b[0;34m.\u001b[0m\u001b[0m_prepare_for_tuning\u001b[0m\u001b[0;34m(\u001b[0m\u001b[0mjob_name\u001b[0m\u001b[0;34m=\u001b[0m\u001b[0mjob_name\u001b[0m\u001b[0;34m,\u001b[0m \u001b[0minclude_cls_metadata\u001b[0m\u001b[0;34m=\u001b[0m\u001b[0minclude_cls_metadata\u001b[0m\u001b[0;34m)\u001b[0m\u001b[0;34m\u001b[0m\u001b[0;34m\u001b[0m\u001b[0m\n\u001b[0;32m--> 455\u001b[0;31m         \u001b[0mself\u001b[0m\u001b[0;34m.\u001b[0m\u001b[0mlatest_tuning_job\u001b[0m \u001b[0;34m=\u001b[0m \u001b[0m_TuningJob\u001b[0m\u001b[0;34m.\u001b[0m\u001b[0mstart_new\u001b[0m\u001b[0;34m(\u001b[0m\u001b[0mself\u001b[0m\u001b[0;34m,\u001b[0m \u001b[0minputs\u001b[0m\u001b[0;34m)\u001b[0m\u001b[0;34m\u001b[0m\u001b[0;34m\u001b[0m\u001b[0m\n\u001b[0m\u001b[1;32m    456\u001b[0m \u001b[0;34m\u001b[0m\u001b[0m\n\u001b[1;32m    457\u001b[0m     \u001b[0;32mdef\u001b[0m \u001b[0m_fit_with_estimator_dict\u001b[0m\u001b[0;34m(\u001b[0m\u001b[0mself\u001b[0m\u001b[0;34m,\u001b[0m \u001b[0minputs\u001b[0m\u001b[0;34m,\u001b[0m \u001b[0mjob_name\u001b[0m\u001b[0;34m,\u001b[0m \u001b[0minclude_cls_metadata\u001b[0m\u001b[0;34m,\u001b[0m \u001b[0mestimator_kwargs\u001b[0m\u001b[0;34m)\u001b[0m\u001b[0;34m:\u001b[0m\u001b[0;34m\u001b[0m\u001b[0;34m\u001b[0m\u001b[0m\n",
      "\u001b[0;32m~/anaconda3/envs/mxnet_p36/lib/python3.6/site-packages/sagemaker/tuner.py\u001b[0m in \u001b[0;36mstart_new\u001b[0;34m(cls, tuner, inputs)\u001b[0m\n\u001b[1;32m   1507\u001b[0m             ]\n\u001b[1;32m   1508\u001b[0m \u001b[0;34m\u001b[0m\u001b[0m\n\u001b[0;32m-> 1509\u001b[0;31m         \u001b[0mtuner\u001b[0m\u001b[0;34m.\u001b[0m\u001b[0msagemaker_session\u001b[0m\u001b[0;34m.\u001b[0m\u001b[0mcreate_tuning_job\u001b[0m\u001b[0;34m(\u001b[0m\u001b[0;34m**\u001b[0m\u001b[0mtuner_args\u001b[0m\u001b[0;34m)\u001b[0m\u001b[0;34m\u001b[0m\u001b[0;34m\u001b[0m\u001b[0m\n\u001b[0m\u001b[1;32m   1510\u001b[0m         \u001b[0;32mreturn\u001b[0m \u001b[0mcls\u001b[0m\u001b[0;34m(\u001b[0m\u001b[0mtuner\u001b[0m\u001b[0;34m.\u001b[0m\u001b[0msagemaker_session\u001b[0m\u001b[0;34m,\u001b[0m \u001b[0mtuner\u001b[0m\u001b[0;34m.\u001b[0m\u001b[0m_current_job_name\u001b[0m\u001b[0;34m)\u001b[0m\u001b[0;34m\u001b[0m\u001b[0;34m\u001b[0m\u001b[0m\n\u001b[1;32m   1511\u001b[0m \u001b[0;34m\u001b[0m\u001b[0m\n",
      "\u001b[0;32m~/anaconda3/envs/mxnet_p36/lib/python3.6/site-packages/sagemaker/session.py\u001b[0m in \u001b[0;36mcreate_tuning_job\u001b[0;34m(self, job_name, tuning_config, training_config, training_config_list, warm_start_config, tags)\u001b[0m\n\u001b[1;32m   2050\u001b[0m         \u001b[0mLOGGER\u001b[0m\u001b[0;34m.\u001b[0m\u001b[0minfo\u001b[0m\u001b[0;34m(\u001b[0m\u001b[0;34m\"Creating hyperparameter tuning job with name: %s\"\u001b[0m\u001b[0;34m,\u001b[0m \u001b[0mjob_name\u001b[0m\u001b[0;34m)\u001b[0m\u001b[0;34m\u001b[0m\u001b[0;34m\u001b[0m\u001b[0m\n\u001b[1;32m   2051\u001b[0m         \u001b[0mLOGGER\u001b[0m\u001b[0;34m.\u001b[0m\u001b[0mdebug\u001b[0m\u001b[0;34m(\u001b[0m\u001b[0;34m\"tune request: %s\"\u001b[0m\u001b[0;34m,\u001b[0m \u001b[0mjson\u001b[0m\u001b[0;34m.\u001b[0m\u001b[0mdumps\u001b[0m\u001b[0;34m(\u001b[0m\u001b[0mtune_request\u001b[0m\u001b[0;34m,\u001b[0m \u001b[0mindent\u001b[0m\u001b[0;34m=\u001b[0m\u001b[0;36m4\u001b[0m\u001b[0;34m)\u001b[0m\u001b[0;34m)\u001b[0m\u001b[0;34m\u001b[0m\u001b[0;34m\u001b[0m\u001b[0m\n\u001b[0;32m-> 2052\u001b[0;31m         \u001b[0mself\u001b[0m\u001b[0;34m.\u001b[0m\u001b[0msagemaker_client\u001b[0m\u001b[0;34m.\u001b[0m\u001b[0mcreate_hyper_parameter_tuning_job\u001b[0m\u001b[0;34m(\u001b[0m\u001b[0;34m**\u001b[0m\u001b[0mtune_request\u001b[0m\u001b[0;34m)\u001b[0m\u001b[0;34m\u001b[0m\u001b[0;34m\u001b[0m\u001b[0m\n\u001b[0m\u001b[1;32m   2053\u001b[0m \u001b[0;34m\u001b[0m\u001b[0m\n\u001b[1;32m   2054\u001b[0m     \u001b[0;32mdef\u001b[0m \u001b[0mdescribe_tuning_job\u001b[0m\u001b[0;34m(\u001b[0m\u001b[0mself\u001b[0m\u001b[0;34m,\u001b[0m \u001b[0mjob_name\u001b[0m\u001b[0;34m)\u001b[0m\u001b[0;34m:\u001b[0m\u001b[0;34m\u001b[0m\u001b[0;34m\u001b[0m\u001b[0m\n",
      "\u001b[0;31mAttributeError\u001b[0m: 'LocalSagemakerClient' object has no attribute 'create_hyper_parameter_tuning_job'"
     ]
    }
   ],
   "source": [
    "max_jobs = 3\n",
    "max_parallel_jobs = 3\n",
    "\n",
    "tuner = HyperparameterTuner(estimator,\n",
    "                            objective_metric_name='timesteps',\n",
    "                            objective_type='Maximize',\n",
    "                            hyperparameter_ranges=hyperparameter_ranges,\n",
    "                            metric_definitions=metric_definitions,\n",
    "                            max_jobs=max_jobs,\n",
    "                            max_parallel_jobs=max_parallel_jobs,\n",
    "                            base_tuning_job_name=job_name_prefix)\n",
    "if run_hpo:\n",
    "    tuner.fit()"
   ]
  },
  {
   "cell_type": "markdown",
   "metadata": {},
   "source": [
    "Now wait for the hyper parameter turner to complete. If you are running HPO, please check SageMaker > Training > Hyperparameter tuning jobs for the progress."
   ]
  },
  {
   "cell_type": "markdown",
   "metadata": {},
   "source": [
    "# Updating your SageMaker endpoint\n",
    "\n",
    "## Collect the target model\n",
    "\n",
    "Once you have retrained your models, we will copy the model artifacts into your SageMaker notebook then package it for a SageMaker endpoint. \n",
    "\n",
    "Firstly, we will obtain an s3 URL of the best model."
   ]
  },
  {
   "cell_type": "code",
   "execution_count": 44,
   "metadata": {},
   "outputs": [
    {
     "name": "stdout",
     "output_type": "stream",
     "text": [
      "Best model location s3://sagemaker-us-west-2-681627153266/Battlesnake-job-mxnet-2021-08-07-18-47-47-200/model.tar.gz\n"
     ]
    }
   ],
   "source": [
    "if run_hpo:\n",
    "    best_training_job = tuner.best_training_job()\n",
    "    best_model_path = \"{}/{}/output/model.tar.gz\".format(s3_output_path, best_training_job)\n",
    "else:\n",
    "    best_model_path = estimator.model_data\n",
    "model_path_key = best_model_path.replace(s3_output_path, \"\")\n",
    "print(\"Best model location {}\".format(best_model_path))"
   ]
  },
  {
   "cell_type": "markdown",
   "metadata": {},
   "source": [
    "Download the best model and put it into LocalEnv/pretrained_models/\n",
    "\n",
    "Note that your new models will override the old models and you can keep version control of all the models"
   ]
  },
  {
   "cell_type": "code",
   "execution_count": 36,
   "metadata": {},
   "outputs": [],
   "source": [
    "s3 = boto3.resource('s3')\n",
    "s3.Bucket(s3_bucket).download_file(model_path_key, 'inference/pretrained_models/model.tar.gz')\n",
    "\n",
    "model_dir = \"Model-{}x{}\".format(map_size[0], map_size[1])\n",
    "!rm -r inference/pretrained_models/{model_dir}\n",
    "\n",
    "!mkdir inference/pretrained_models/{model_dir}\n",
    "!tar -xf inference/pretrained_models/model.tar.gz -C inference/pretrained_models/{model_dir}\n",
    "# !rm mxnet_inference/pretrained_models/model.tar.gz"
   ]
  },
  {
   "cell_type": "markdown",
   "metadata": {},
   "source": [
    "Package pretrained_models to endpoint"
   ]
  },
  {
   "cell_type": "code",
   "execution_count": 37,
   "metadata": {},
   "outputs": [],
   "source": [
    "!mv inference/pretrained_models Models\n",
    "!tar -czf Models.tar.gz Models\n",
    "!mv Models inference/pretrained_models\n",
    "\n",
    "s3_client = boto3.client('s3')\n",
    "s3_client.upload_file(\"Models.tar.gz\", s3_bucket, \n",
    "                      \"battlesnake-aws/pretrainedmodels/Models.tar.gz\")\n",
    "!rm Models.tar.gz"
   ]
  },
  {
   "cell_type": "markdown",
   "metadata": {},
   "source": [
    "## Update the SageMaker endpoint with your new model"
   ]
  },
  {
   "cell_type": "code",
   "execution_count": 38,
   "metadata": {},
   "outputs": [
    {
     "name": "stdout",
     "output_type": "stream",
     "text": [
      "Make an endpoint with s3://sagemaker-us-west-2-681627153266/battlesnake-aws/pretrainedmodels/Models.tar.gz\n"
     ]
    }
   ],
   "source": [
    "model_data = \"s3://{}/battlesnake-aws/pretrainedmodels/Models.tar.gz\".format(s3_bucket)\n",
    "print(\"Make an endpoint with {}\".format(model_data))"
   ]
  },
  {
   "cell_type": "markdown",
   "metadata": {},
   "source": [
    "Delete the existing endpoint, model, and endpoint configuration files"
   ]
  },
  {
   "cell_type": "code",
   "execution_count": 45,
   "metadata": {},
   "outputs": [
    {
     "data": {
      "text/plain": [
       "{'ResponseMetadata': {'RequestId': '0208e1c8-b026-4687-b05d-2da0f6ab7a14',\n",
       "  'HTTPStatusCode': 200,\n",
       "  'HTTPHeaders': {'x-amzn-requestid': '0208e1c8-b026-4687-b05d-2da0f6ab7a14',\n",
       "   'content-type': 'application/x-amz-json-1.1',\n",
       "   'content-length': '0',\n",
       "   'date': 'Sat, 07 Aug 2021 21:35:40 GMT'},\n",
       "  'RetryAttempts': 0}}"
      ]
     },
     "execution_count": 45,
     "metadata": {},
     "output_type": "execute_result"
    }
   ],
   "source": [
    "sm_client = boto3.client(service_name='sagemaker')\n",
    "sm_client.delete_endpoint(EndpointName='battlesnake-endpoint')\n",
    "sm_client.delete_endpoint_config(EndpointConfigName='battlesnake-endpoint')\n",
    "sm_client.delete_model(ModelName=\"battlesnake-mxnet\")"
   ]
  },
  {
   "cell_type": "markdown",
   "metadata": {},
   "source": [
    "Create a new endpoint with the new model"
   ]
  },
  {
   "cell_type": "code",
   "execution_count": 42,
   "metadata": {
    "scrolled": true
   },
   "outputs": [
    {
     "name": "stdout",
     "output_type": "stream",
     "text": [
      "-------------!"
     ]
    }
   ],
   "source": [
    "from sagemaker.mxnet import MXNetModel\n",
    "\n",
    "endpoint_instance_type = info[\"SagemakerInferenceInstanceType\"]\n",
    "mxnet_model = MXNetModel(model_data=model_data,\n",
    "                             entry_point='predict.py',\n",
    "                             role=role,\n",
    "                             framework_version='1.6.0',\n",
    "                             source_dir='inference/inference_src',\n",
    "                             name=info['SagemakerEndPointName'],\n",
    "                             code_location='s3://{}//code'.format(s3_bucket),\n",
    "                             py_version='py3')\n",
    "predictor = mxnet_model.deploy(initial_instance_count=1,\n",
    "                               instance_type=endpoint_instance_type,\n",
    "                               endpoint_name=info['SagemakerEndPointName'])\n",
    "\n"
   ]
  },
  {
   "cell_type": "markdown",
   "metadata": {},
   "source": [
    "## Testing that your endpoint works.\n",
    "You should see `Action to take is X`"
   ]
  },
  {
   "cell_type": "code",
   "execution_count": 43,
   "metadata": {
    "scrolled": true
   },
   "outputs": [
    {
     "name": "stdout",
     "output_type": "stream",
     "text": [
      "Action to take is 3\n"
     ]
    }
   ],
   "source": [
    "data1 = np.zeros(shape=(1, 2, 3, map_size[0]+2, map_size[1]+2))\n",
    "data2 = np.zeros(shape=(1, 2))\n",
    "data3 = np.zeros(shape=(1, 2))\n",
    "data4 = np.zeros(shape=(1, 2))\n",
    "health_dict = {0: 50, 1: 50}\n",
    "json = {\"board\": {\n",
    "            \"height\": 15,\n",
    "            \"width\": 15,\n",
    "            \"food\": [],\n",
    "            \"snakes\": []\n",
    "            },\n",
    "        \"you\": {\n",
    "            \"id\": \"snake-id-string\",\n",
    "            \"name\": \"Sneky Snek\",\n",
    "            \"health\": 90,\n",
    "            \"body\": [{\"x\": 1, \"y\": 3}]\n",
    "            }\n",
    "        }\n",
    "action = predictor.predict({\"state\": data1, \"snake_id\": data2, \n",
    "                           \"turn_count\": data3, \"health\": data4,  \n",
    "                           \"all_health\": health_dict, \"map_width\": map_size[0], \"json\": json})\n",
    "print(\"Action to take is {}\".format(action))"
   ]
  },
  {
   "cell_type": "code",
   "execution_count": null,
   "metadata": {},
   "outputs": [],
   "source": []
  }
 ],
 "metadata": {
  "kernelspec": {
   "display_name": "conda_mxnet_p36",
   "language": "python",
   "name": "conda_mxnet_p36"
  },
  "language_info": {
   "codemirror_mode": {
    "name": "ipython",
    "version": 3
   },
   "file_extension": ".py",
   "mimetype": "text/x-python",
   "name": "python",
   "nbconvert_exporter": "python",
   "pygments_lexer": "ipython3",
   "version": "3.6.13"
  }
 },
 "nbformat": 4,
 "nbformat_minor": 4
}
