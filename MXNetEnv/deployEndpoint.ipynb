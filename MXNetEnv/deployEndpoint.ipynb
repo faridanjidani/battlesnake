{
 "cells": [
  {
   "cell_type": "markdown",
   "metadata": {},
   "source": [
    "# Create sagemaker endpoints\n",
    "This notebook creates sagemaker endpoints with the pretrained models"
   ]
  },
  {
   "cell_type": "code",
   "execution_count": null,
   "metadata": {},
   "outputs": [],
   "source": [
    "import boto3\n",
    "import sagemaker\n",
    "import os\n",
    "import numpy as np\n",
    "import urllib.request\n",
    "\n",
    "endpoint_instance_type = \"SAGEMAKER_INFERENCE_INSTANCE_TYPE\"\n",
    "sage_session = sagemaker.session.Session()\n",
    "s3_bucket = sage_session.default_bucket()\n",
    "role = sagemaker.get_execution_role()"
   ]
  },
  {
   "cell_type": "markdown",
   "metadata": {},
   "source": [
    "### Make your own S3 bucket and copy the pre-trained models into your own bucket\n",
    "Package the pretrained models"
   ]
  },
  {
   "cell_type": "code",
   "execution_count": null,
   "metadata": {},
   "outputs": [],
   "source": [
    "%cd inference\n",
    "!mv pretrained_models Models\n",
    "!tar -czf Models.tar.gz Models\n",
    "!mv Models pretrained_models\n",
    "%cd .."
   ]
  },
  {
   "cell_type": "markdown",
   "metadata": {},
   "source": [
    "An s3 bucket is a cloud storage. In this section, we will make a bucket in your AWS account then copy the pre-trained models into your own bucket"
   ]
  },
  {
   "cell_type": "code",
   "execution_count": null,
   "metadata": {},
   "outputs": [],
   "source": [
    "s3_client = boto3.client('s3')\n",
    "s3_client.upload_file(\"inference/Models.tar.gz\", s3_bucket, \n",
    "                      \"battlesnake-aws/pretrainedmodels/Models.tar.gz\")"
   ]
  },
  {
   "cell_type": "markdown",
   "metadata": {},
   "source": [
    "# Create a sagemaker endpoint with the bucket\n"
   ]
  },
  {
   "cell_type": "code",
   "execution_count": null,
   "metadata": {},
   "outputs": [],
   "source": [
    "model_data = \"s3://{}/battlesnake-aws/pretrainedmodels/Models.tar.gz\".format(s3_bucket)\n",
    "print(\"Make an endpoint with {}\".format(model_data))"
   ]
  },
  {
   "cell_type": "code",
   "execution_count": null,
   "metadata": {
    "scrolled": true
   },
   "outputs": [],
   "source": [
    "from sagemaker.mxnet import MXNetModel\n",
    "mxnet_model = MXNetModel(model_data=model_data,\n",
    "                             entry_point='predict.py',\n",
    "                             role=role,\n",
    "                             framework_version='1.6.0',\n",
    "                             source_dir='inference/inference_src',\n",
    "                             name=\"battlesnake-mxnet\",\n",
    "                             py_version='py3')\n",
    "predictor = mxnet_model.deploy(initial_instance_count=1,\n",
    "                               instance_type=endpoint_instance_type,\n",
    "                               endpoint_name='battlesnake-endpoint')"
   ]
  },
  {
   "cell_type": "markdown",
   "metadata": {},
   "source": [
    "# Test the model"
   ]
  },
  {
   "cell_type": "code",
   "execution_count": null,
   "metadata": {
    "scrolled": true
   },
   "outputs": [],
   "source": [
    "map_size = (11, 11)\n",
    "data1 = np.zeros(shape=(1, 2, 3, map_size[0]+2, map_size[1]+2))\n",
    "data2 = np.zeros(shape=(1, 2))\n",
    "data3 = np.zeros(shape=(1, 2))\n",
    "data4 = np.zeros(shape=(1, 2))\n",
    "health_dict = {0: 50, 1: 50}\n",
    "json = {\"board\": {\n",
    "            \"height\": 15,\n",
    "            \"width\": 15,\n",
    "            \"food\": [],\n",
    "            \"snakes\": []\n",
    "            },\n",
    "        \"you\": {\n",
    "            \"id\": \"snake-id-string\",\n",
    "            \"name\": \"Sneky Snek\",\n",
    "            \"health\": 90,\n",
    "            \"body\": [{\"x\": 1, \"y\": 3}]\n",
    "            }\n",
    "        }\n",
    "action = predictor.predict({\"state\": data1, \"snake_id\": data2, \n",
    "                           \"turn_count\": data3, \"health\": data4,  \n",
    "                           \"all_health\": health_dict, \"map_width\": map_size[0], \"json\": json})\n",
    "print(\"Action to take is {}\".format(action))"
   ]
  },
  {
   "cell_type": "markdown",
   "metadata": {},
   "source": [
    "# Clean up\n",
    "Remove the packaged model"
   ]
  },
  {
   "cell_type": "code",
   "execution_count": null,
   "metadata": {},
   "outputs": [],
   "source": [
    "!rm inference/Models.tar.gz"
   ]
  },
  {
   "cell_type": "code",
   "execution_count": null,
   "metadata": {},
   "outputs": [],
   "source": []
  }
 ],
 "metadata": {
  "kernelspec": {
   "display_name": "conda_mxnet_p36",
   "language": "python",
   "name": "conda_mxnet_p36"
  },
  "language_info": {
   "codemirror_mode": {
    "name": "ipython",
    "version": 3
   },
   "file_extension": ".py",
   "mimetype": "text/x-python",
   "name": "python",
   "nbconvert_exporter": "python",
   "pygments_lexer": "ipython3",
   "version": "3.6.5"
  }
 },
 "nbformat": 4,
 "nbformat_minor": 4
}
