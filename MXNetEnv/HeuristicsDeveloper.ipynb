{
 "cells": [
  {
   "cell_type": "code",
   "execution_count": 26,
   "metadata": {},
   "outputs": [],
   "source": [
    "from io import BytesIO\n",
    "import time\n",
    "import sys\n",
    "sys.path.append(\"../BattlesnakeGym\")\n",
    "import boto3\n",
    "import PIL.Image\n",
    "import sagemaker\n",
    "import gym\n",
    "from gym import wrappers\n",
    "import numpy as np\n",
    "import mxnet as mx\n",
    "import matplotlib.pyplot as plt\n",
    "%matplotlib inline\n",
    "from importlib import reload\n",
    "from IPython import display\n",
    "import ipywidgets as widgets\n",
    "from IPython.display import display as i_display\n",
    "\n",
    "from battlesnake_gym.snake_gym import BattlesnakeGym\n",
    "from heuristics_utils import simulate"
   ]
  },
  {
   "cell_type": "code",
   "execution_count": 2,
   "metadata": {},
   "outputs": [
    {
     "name": "stdout",
     "output_type": "stream",
     "text": [
      "Requirement already satisfied: gym in /home/ec2-user/anaconda3/envs/mxnet_p36/lib/python3.6/site-packages (0.18.3)\n",
      "Requirement already satisfied: cloudpickle<1.7.0,>=1.2.0 in /home/ec2-user/anaconda3/envs/mxnet_p36/lib/python3.6/site-packages (from gym) (1.6.0)\n",
      "Requirement already satisfied: Pillow<=8.2.0 in /home/ec2-user/anaconda3/envs/mxnet_p36/lib/python3.6/site-packages (from gym) (8.2.0)\n",
      "Requirement already satisfied: pyglet<=1.5.15,>=1.4.0 in /home/ec2-user/anaconda3/envs/mxnet_p36/lib/python3.6/site-packages (from gym) (1.5.15)\n",
      "Requirement already satisfied: scipy in /home/ec2-user/anaconda3/envs/mxnet_p36/lib/python3.6/site-packages (from gym) (1.5.3)\n",
      "Requirement already satisfied: numpy>=1.10.4 in /home/ec2-user/anaconda3/envs/mxnet_p36/lib/python3.6/site-packages (from gym) (1.19.5)\n",
      "\u001b[33mWARNING: You are using pip version 21.1.2; however, version 21.2.2 is available.\n",
      "You should consider upgrading via the '/home/ec2-user/anaconda3/envs/mxnet_p36/bin/python -m pip install --upgrade pip' command.\u001b[0m\n"
     ]
    }
   ],
   "source": [
    "!pip3 install gym\n"
   ]
  },
  {
   "cell_type": "markdown",
   "metadata": {},
   "source": [
    "# Define the openAI gym\n",
    "Optionally, you can define the initial game state (the situation simulator) of the snakes and food.\n",
    "To use the initial state, set `USE_INITIAL_STATE = True` and enter the desired coordinates of the snake and food using the initial_state dictionary. The dictionary follows the same format as the battlesnake API."
   ]
  },
  {
   "cell_type": "code",
   "execution_count": 27,
   "metadata": {},
   "outputs": [],
   "source": [
    "USE_INITIAL_STATE = False\n",
    "\n",
    "# Sample initial state for the situation simulator\n",
    "initial_state = {\n",
    "    \"turn\": 4,\n",
    "    \"board\": {\n",
    "        \"height\": 11,\n",
    "        \"width\": 11,\n",
    "        \"food\": [\n",
    "            {\n",
    "                \"x\": 1,\n",
    "                \"y\": 3\n",
    "            }\n",
    "        ],\n",
    "        \"snakes\": [{\n",
    "                        \"health\": 90,\n",
    "                        \"body\": [{\"x\": 8, \"y\": 5}],\n",
    "                    }, \n",
    "                    {\n",
    "                        \"health\": 90,\n",
    "                        \"body\": [{\"x\": 1, \"y\": 6}],\n",
    "                    },\n",
    "                    {\n",
    "                        \"health\": 90,\n",
    "                        \"body\": [{\"x\": 3, \"y\": 3}],\n",
    "                    },\n",
    "                    {\n",
    "                        \"health\": 90,\n",
    "                        \"body\": [{\"x\": 6, \"y\": 4}],\n",
    "                    },\n",
    "                  ]\n",
    "\n",
    "    }\n",
    "}\n",
    "\n",
    "if USE_INITIAL_STATE == False:\n",
    "    initial_state = None"
   ]
  },
  {
   "cell_type": "markdown",
   "metadata": {},
   "source": [
    "The parameters here must match the ones provided during training (except initial_state)"
   ]
  },
  {
   "cell_type": "code",
   "execution_count": 28,
   "metadata": {},
   "outputs": [],
   "source": [
    "map_size = (11, 11)\n",
    "number_of_snakes = 4\n",
    "env = BattlesnakeGym(map_size=map_size, number_of_snakes=number_of_snakes, observation_type=\"bordered-51s\", \n",
    "                     initial_game_state=initial_state)"
   ]
  },
  {
   "cell_type": "markdown",
   "metadata": {},
   "source": [
    "# Load the trained model\n",
    "The pretrained_models are loaded into an MXNet net. _You can safely ignore the __WARNING about the type for data0__._"
   ]
  },
  {
   "cell_type": "code",
   "execution_count": 29,
   "metadata": {},
   "outputs": [],
   "source": [
    "params_name = \"inference/pretrained_models/Model-{}x{}/local-0000.params\".format(map_size[0], map_size[1])\n",
    "symbol_name = \"inference/pretrained_models/Model-{}x{}/local-symbol.json\".format(map_size[0], map_size[1])\n",
    "\n",
    "ctx = mx.gpu() if mx.context.num_gpus() > 0 else mx.cpu()\n",
    "net = mx.gluon.SymbolBlock.imports(symbol_name, ['data0', 'data1', 'data2', 'data3'],\n",
    "                                   params_name, ctx=ctx)\n",
    "net.hybridize(static_alloc=True, static_shape=True)"
   ]
  },
  {
   "cell_type": "markdown",
   "metadata": {},
   "source": [
    "# Simulation loop\n",
    "\n",
    "Run a simulation with the environment with the heuritics that you wrote. \n",
    "To edit the heuristics, edit the file `MXNetEnv/inference/inference_src/battlesnake_heuristics`.\n",
    "Note that you can track the progress of your work with git."
   ]
  },
  {
   "cell_type": "code",
   "execution_count": 30,
   "metadata": {},
   "outputs": [
    {
     "name": "stdout",
     "output_type": "stream",
     "text": [
      "Completed\n"
     ]
    }
   ],
   "source": [
    "import inference.inference_src.battlesnake_heuristics\n",
    "reload(inference.inference_src.battlesnake_heuristics)\n",
    "from inference.inference_src.battlesnake_heuristics import MyBattlesnakeHeuristics\n",
    "\n",
    "heuristics = MyBattlesnakeHeuristics()\n",
    "infos, rgb_arrays, actions, heuristics_remarks, json_array = simulate(env, net, heuristics, number_of_snakes)"
   ]
  },
  {
   "cell_type": "markdown",
   "metadata": {},
   "source": [
    "# Playback the simulation\n",
    "\n",
    "Defines the user interface of the simulator."
   ]
  },
  {
   "cell_type": "code",
   "execution_count": 31,
   "metadata": {},
   "outputs": [
    {
     "data": {
      "application/vnd.jupyter.widget-view+json": {
       "model_id": "81bb2cbd708845278cc8e13bb1f39d2f",
       "version_major": 2,
       "version_minor": 0
      },
      "text/plain": [
       "HBox(children=(Button(description='◄', style=ButtonStyle()), Button(description='►', style=ButtonStyle()), Int…"
      ]
     },
     "metadata": {},
     "output_type": "display_data"
    },
    {
     "data": {
      "application/vnd.jupyter.widget-view+json": {
       "model_id": "78fb3979e2554ff6a26bdb4bea16c41b",
       "version_major": 2,
       "version_minor": 0
      },
      "text/plain": [
       "HBox(children=(Image(value=b'\\x89PNG\\r\\n\\x1a\\n\\x00\\x00\\x00\\rIHDR\\x00\\x00\\x02N\\x00\\x00\\x02N\\x08\\x02\\x00\\x00\\x00…"
      ]
     },
     "metadata": {},
     "output_type": "display_data"
    }
   ],
   "source": [
    "def get_env_json():\n",
    "    if slider.value < len(json_array):\n",
    "        return json_array[slider.value]\n",
    "    else:\n",
    "        return \"\"\n",
    "    \n",
    "def play_simulation(_):\n",
    "    for i in range(slider.value, len(rgb_arrays) - slider.value - 1):\n",
    "        slider.value = slider.value + 1\n",
    "        display_image(slider.value)\n",
    "        time.sleep(0.2)\n",
    "\n",
    "def on_left_button_pressed(_):\n",
    "    if slider.value > 0:\n",
    "        slider.value = slider.value - 1 \n",
    "    display_image(slider.value)\n",
    "\n",
    "def on_right_button_pressed(_):\n",
    "    if slider.value < len(rgb_arrays):\n",
    "        slider.value = slider.value + 1 \n",
    "    display_image(slider.value)\n",
    "        \n",
    "def display_image(index):  \n",
    "    if index >= len(rgb_arrays):\n",
    "        return\n",
    "    info = infos[index]\n",
    "    action = actions[index]\n",
    "    heuristics = heuristics_remarks[index]\n",
    "    snake_colours = env.snakes.get_snake_colours()\n",
    "        \n",
    "    line_0 = [widgets.Label(\"Turn count\".format(info[\"current_turn\"])),\n",
    "                 widgets.Label(\"Snake\")]\n",
    "    \n",
    "    line_1 = [widgets.Label(\"\"), widgets.Label(\"Health\")]\n",
    "    \n",
    "    line_2 = [widgets.Label(\"{}\".format(info[\"current_turn\"])), \n",
    "              widgets.Label(\"Action\")]\n",
    "    \n",
    "    line_3 = [widgets.Label(\"\"), widgets.Label(\"Gym remarks\")]\n",
    "    \n",
    "    line_4 = [widgets.Label(\"\"), widgets.Label(\"Heur. remarks\")]\n",
    "\n",
    "    action_convertion_dict = {0: \"Up\", 1: \"Down\", 2: \"Left\", 3: \"Right\", 4: \"None\"}\n",
    "    for snake_id in range(len(action)):\n",
    "        snake_health = \"{}\".format(info[\"snake_health\"][snake_id])\n",
    "        snake_health_widget = widgets.Label(snake_health)\n",
    "        snake_action = \"{}\".format(action_convertion_dict[action[snake_id]])\n",
    "        snake_action_widget = widgets.Label(snake_action)\n",
    "\n",
    "        snake_colour = snake_colours[snake_id]\n",
    "        hex_colour = '#%02x%02x%02x' % (snake_colour[0], snake_colour[1], snake_colour[2])\n",
    "        snake_colour_widget = widgets.HTML(value = f\"<b><font color=\"+hex_colour+\">⬤</b>\")\n",
    "\n",
    "        gym_remarks = \"\"\n",
    "        if snake_id in info[\"snake_info\"]:\n",
    "            if info[\"snake_info\"][snake_id] != \"Did not colide\": \n",
    "                gym_remarks = \"{}\".format(info[\"snake_info\"][snake_id])\n",
    "        gym_remarks_widget = widgets.Label(gym_remarks)\n",
    "        \n",
    "        heuris_remarks = \"{}\".format(heuristics[snake_id])\n",
    "        heuris_remarks_widget = widgets.Label(heuris_remarks)\n",
    "\n",
    "        line_0.append(snake_colour_widget)\n",
    "        line_1.append(snake_health_widget)\n",
    "        line_2.append(snake_action_widget)\n",
    "        line_3.append(gym_remarks_widget)\n",
    "        line_4.append(heuris_remarks_widget)\n",
    "\n",
    "    line_0_widget = widgets.VBox(line_0)\n",
    "    line_1_widget= widgets.VBox(line_1)\n",
    "    line_2_widget = widgets.VBox(line_2)\n",
    "    line_3_widget = widgets.VBox(line_3)\n",
    "    line_4_widget = widgets.VBox(line_4)\n",
    "   \n",
    "    info_widget = widgets.HBox([line_0_widget, line_1_widget, line_2_widget, line_3_widget, line_4_widget])\n",
    "        \n",
    "    image = PIL.Image.fromarray(rgb_arrays[index])\n",
    "    f = BytesIO()\n",
    "    image.save(f, \"png\")\n",
    "    \n",
    "    states_widget = widgets.Image(value=f.getvalue(), width=500)\n",
    "    main_widgets_list = [states_widget, info_widget]\n",
    "    \n",
    "    main_widget = widgets.HBox(main_widgets_list)\n",
    "    \n",
    "    display.clear_output(wait=True)\n",
    "    i_display(navigator)\n",
    "    i_display(main_widget)\n",
    "    \n",
    "left_button = widgets.Button(description='◄')\n",
    "left_button.on_click(on_left_button_pressed)\n",
    "right_button = widgets.Button(description='►')\n",
    "right_button.on_click(on_right_button_pressed)\n",
    "slider = widgets.IntSlider(max=len(rgb_arrays) - 1)\n",
    "play_button = widgets.Button(description='Play')\n",
    "play_button.on_click(play_simulation)\n",
    "\n",
    "navigator = widgets.HBox([left_button, right_button, slider, play_button])\n",
    "display_image(index=0)"
   ]
  },
  {
   "cell_type": "markdown",
   "metadata": {},
   "source": [
    "To get a JSON representation of the gym (environment), run the following function. You can also use output of the following function as an initial_state of the gym.\n",
    "\n",
    "*Please provide this json array if you are reporting bugs in the gym*"
   ]
  },
  {
   "cell_type": "code",
   "execution_count": 32,
   "metadata": {},
   "outputs": [
    {
     "data": {
      "text/plain": [
       "{'turn': 0,\n",
       " 'board': {'height': 11,\n",
       "  'width': 11,\n",
       "  'food': [{'x': 1, 'y': 6}],\n",
       "  'snakes': [{'health': 100,\n",
       "    'body': [{'x': 2, 'y': 0}],\n",
       "    'id': 0,\n",
       "    'name': 'Snake 0'},\n",
       "   {'health': 100, 'body': [{'x': 4, 'y': 4}], 'id': 1, 'name': 'Snake 1'},\n",
       "   {'health': 100, 'body': [{'x': 9, 'y': 5}], 'id': 2, 'name': 'Snake 2'},\n",
       "   {'health': 100, 'body': [{'x': 9, 'y': 4}], 'id': 3, 'name': 'Snake 3'}]}}"
      ]
     },
     "execution_count": 32,
     "metadata": {},
     "output_type": "execute_result"
    }
   ],
   "source": [
    "get_env_json()"
   ]
  },
  {
   "cell_type": "markdown",
   "metadata": {},
   "source": [
    "# Deploy the SageMaker endpoint\n",
    "This section will deploy your new heuristics into the SageMaker endpoint"
   ]
  },
  {
   "cell_type": "code",
   "execution_count": 33,
   "metadata": {},
   "outputs": [
    {
     "name": "stdout",
     "output_type": "stream",
     "text": [
      "Your sagemaker s3_bucket is s3://sagemaker-us-west-2-681627153266\n"
     ]
    }
   ],
   "source": [
    "\n",
    "sage_session = sagemaker.session.Session()\n",
    "s3_bucket = sage_session.default_bucket()\n",
    "role = sagemaker.get_execution_role()\n",
    "print(\"Your sagemaker s3_bucket is s3://{}\".format(s3_bucket))"
   ]
  },
  {
   "cell_type": "markdown",
   "metadata": {},
   "source": [
    "## (Optional) Run if you retrained the model\n",
    "If you retrained your model in PolicyTrainining.ipynb but you did not create a new endpoint, please run the following cell to update the models."
   ]
  },
  {
   "cell_type": "code",
   "execution_count": 23,
   "metadata": {},
   "outputs": [
    {
     "name": "stdout",
     "output_type": "stream",
     "text": [
      "/home/ec2-user/SageMaker/MXNetEnv/inference\n",
      "/home/ec2-user/SageMaker/MXNetEnv\n"
     ]
    }
   ],
   "source": [
    "%cd inference\n",
    "!mv pretrained_models Models\n",
    "!tar -czf Models.tar.gz Models\n",
    "!mv Models pretrained_models\n",
    "\n",
    "s3_client = boto3.client('s3')\n",
    "s3_client.upload_file(\"Models.tar.gz\", s3_bucket, \n",
    "                      \"battlesnake-aws/pretrainedmodels/Models.tar.gz\")\n",
    "!rm Models.tar.gz\n",
    "%cd .."
   ]
  },
  {
   "cell_type": "markdown",
   "metadata": {},
   "source": [
    "## Deploy your new heuristics\n",
    "Using the new heuristics you developed, a new SageMaker endpoint will be created.\n",
    "\n",
    "Firstly, delete the old endpoint, model and endpoint config."
   ]
  },
  {
   "cell_type": "code",
   "execution_count": 34,
   "metadata": {},
   "outputs": [
    {
     "ename": "ClientError",
     "evalue": "An error occurred (ValidationException) when calling the DeleteEndpoint operation: Could not find endpoint \"arn:aws:sagemaker:us-west-2:681627153266:endpoint/battlesnake-endpoint\".",
     "output_type": "error",
     "traceback": [
      "\u001b[0;31m---------------------------------------------------------------------------\u001b[0m",
      "\u001b[0;31mClientError\u001b[0m                               Traceback (most recent call last)",
      "\u001b[0;32m<ipython-input-34-b7985fc5ad75>\u001b[0m in \u001b[0;36m<module>\u001b[0;34m\u001b[0m\n\u001b[1;32m      1\u001b[0m \u001b[0msm_client\u001b[0m \u001b[0;34m=\u001b[0m \u001b[0mboto3\u001b[0m\u001b[0;34m.\u001b[0m\u001b[0mclient\u001b[0m\u001b[0;34m(\u001b[0m\u001b[0mservice_name\u001b[0m\u001b[0;34m=\u001b[0m\u001b[0;34m'sagemaker'\u001b[0m\u001b[0;34m)\u001b[0m\u001b[0;34m\u001b[0m\u001b[0;34m\u001b[0m\u001b[0m\n\u001b[0;32m----> 2\u001b[0;31m \u001b[0msm_client\u001b[0m\u001b[0;34m.\u001b[0m\u001b[0mdelete_endpoint\u001b[0m\u001b[0;34m(\u001b[0m\u001b[0mEndpointName\u001b[0m\u001b[0;34m=\u001b[0m\u001b[0;34m'battlesnake-endpoint'\u001b[0m\u001b[0;34m)\u001b[0m\u001b[0;34m\u001b[0m\u001b[0;34m\u001b[0m\u001b[0m\n\u001b[0m\u001b[1;32m      3\u001b[0m \u001b[0msm_client\u001b[0m\u001b[0;34m.\u001b[0m\u001b[0mdelete_endpoint_config\u001b[0m\u001b[0;34m(\u001b[0m\u001b[0mEndpointConfigName\u001b[0m\u001b[0;34m=\u001b[0m\u001b[0;34m'battlesnake-endpoint'\u001b[0m\u001b[0;34m)\u001b[0m\u001b[0;34m\u001b[0m\u001b[0;34m\u001b[0m\u001b[0m\n\u001b[1;32m      4\u001b[0m \u001b[0msm_client\u001b[0m\u001b[0;34m.\u001b[0m\u001b[0mdelete_model\u001b[0m\u001b[0;34m(\u001b[0m\u001b[0mModelName\u001b[0m\u001b[0;34m=\u001b[0m\u001b[0;34m\"battlesnake-mxnet\"\u001b[0m\u001b[0;34m)\u001b[0m\u001b[0;34m\u001b[0m\u001b[0;34m\u001b[0m\u001b[0m\n",
      "\u001b[0;32m~/anaconda3/envs/mxnet_p36/lib/python3.6/site-packages/botocore/client.py\u001b[0m in \u001b[0;36m_api_call\u001b[0;34m(self, *args, **kwargs)\u001b[0m\n\u001b[1;32m    384\u001b[0m                     \"%s() only accepts keyword arguments.\" % py_operation_name)\n\u001b[1;32m    385\u001b[0m             \u001b[0;31m# The \"self\" in this scope is referring to the BaseClient.\u001b[0m\u001b[0;34m\u001b[0m\u001b[0;34m\u001b[0m\u001b[0;34m\u001b[0m\u001b[0m\n\u001b[0;32m--> 386\u001b[0;31m             \u001b[0;32mreturn\u001b[0m \u001b[0mself\u001b[0m\u001b[0;34m.\u001b[0m\u001b[0m_make_api_call\u001b[0m\u001b[0;34m(\u001b[0m\u001b[0moperation_name\u001b[0m\u001b[0;34m,\u001b[0m \u001b[0mkwargs\u001b[0m\u001b[0;34m)\u001b[0m\u001b[0;34m\u001b[0m\u001b[0;34m\u001b[0m\u001b[0m\n\u001b[0m\u001b[1;32m    387\u001b[0m \u001b[0;34m\u001b[0m\u001b[0m\n\u001b[1;32m    388\u001b[0m         \u001b[0m_api_call\u001b[0m\u001b[0;34m.\u001b[0m\u001b[0m__name__\u001b[0m \u001b[0;34m=\u001b[0m \u001b[0mstr\u001b[0m\u001b[0;34m(\u001b[0m\u001b[0mpy_operation_name\u001b[0m\u001b[0;34m)\u001b[0m\u001b[0;34m\u001b[0m\u001b[0;34m\u001b[0m\u001b[0m\n",
      "\u001b[0;32m~/anaconda3/envs/mxnet_p36/lib/python3.6/site-packages/botocore/client.py\u001b[0m in \u001b[0;36m_make_api_call\u001b[0;34m(self, operation_name, api_params)\u001b[0m\n\u001b[1;32m    703\u001b[0m             \u001b[0merror_code\u001b[0m \u001b[0;34m=\u001b[0m \u001b[0mparsed_response\u001b[0m\u001b[0;34m.\u001b[0m\u001b[0mget\u001b[0m\u001b[0;34m(\u001b[0m\u001b[0;34m\"Error\"\u001b[0m\u001b[0;34m,\u001b[0m \u001b[0;34m{\u001b[0m\u001b[0;34m}\u001b[0m\u001b[0;34m)\u001b[0m\u001b[0;34m.\u001b[0m\u001b[0mget\u001b[0m\u001b[0;34m(\u001b[0m\u001b[0;34m\"Code\"\u001b[0m\u001b[0;34m)\u001b[0m\u001b[0;34m\u001b[0m\u001b[0;34m\u001b[0m\u001b[0m\n\u001b[1;32m    704\u001b[0m             \u001b[0merror_class\u001b[0m \u001b[0;34m=\u001b[0m \u001b[0mself\u001b[0m\u001b[0;34m.\u001b[0m\u001b[0mexceptions\u001b[0m\u001b[0;34m.\u001b[0m\u001b[0mfrom_code\u001b[0m\u001b[0;34m(\u001b[0m\u001b[0merror_code\u001b[0m\u001b[0;34m)\u001b[0m\u001b[0;34m\u001b[0m\u001b[0;34m\u001b[0m\u001b[0m\n\u001b[0;32m--> 705\u001b[0;31m             \u001b[0;32mraise\u001b[0m \u001b[0merror_class\u001b[0m\u001b[0;34m(\u001b[0m\u001b[0mparsed_response\u001b[0m\u001b[0;34m,\u001b[0m \u001b[0moperation_name\u001b[0m\u001b[0;34m)\u001b[0m\u001b[0;34m\u001b[0m\u001b[0;34m\u001b[0m\u001b[0m\n\u001b[0m\u001b[1;32m    706\u001b[0m         \u001b[0;32melse\u001b[0m\u001b[0;34m:\u001b[0m\u001b[0;34m\u001b[0m\u001b[0;34m\u001b[0m\u001b[0m\n\u001b[1;32m    707\u001b[0m             \u001b[0;32mreturn\u001b[0m \u001b[0mparsed_response\u001b[0m\u001b[0;34m\u001b[0m\u001b[0;34m\u001b[0m\u001b[0m\n",
      "\u001b[0;31mClientError\u001b[0m: An error occurred (ValidationException) when calling the DeleteEndpoint operation: Could not find endpoint \"arn:aws:sagemaker:us-west-2:681627153266:endpoint/battlesnake-endpoint\"."
     ]
    }
   ],
   "source": [
    "sm_client = boto3.client(service_name='sagemaker')\n",
    "sm_client.delete_endpoint(EndpointName='battlesnake-endpoint')\n",
    "sm_client.delete_endpoint_config(EndpointConfigName='battlesnake-endpoint')\n",
    "sm_client.delete_model(ModelName=\"battlesnake-mxnet\")"
   ]
  },
  {
   "cell_type": "markdown",
   "metadata": {},
   "source": [
    "Run the following cells to create a new model and endpoint with the new heuristics"
   ]
  },
  {
   "cell_type": "code",
   "execution_count": 39,
   "metadata": {},
   "outputs": [
    {
     "name": "stdout",
     "output_type": "stream",
     "text": [
      "---------------!"
     ]
    }
   ],
   "source": [
    "target_key = \"battlesnake-aws/pretrainedmodels/Models.tar.gz\"\n",
    "\n",
    "model_data = \"s3://{}/{}\".format(s3_bucket, target_key)\n",
    "endpoint_instance_type = \"ml.t2.medium\"\n",
    "\n",
    "from sagemaker.mxnet import MXNetModel\n",
    "mxnet_model = MXNetModel(model_data=model_data,\n",
    "                             entry_point='predict.py',\n",
    "                             role=role,\n",
    "                             framework_version='1.6.0',\n",
    "                             source_dir='inference/inference_src',\n",
    "                             name=\"battlesnake-mxnet\",\n",
    "                             py_version='py3')\n",
    "predictor = mxnet_model.deploy(initial_instance_count=1,\n",
    "                               instance_type=endpoint_instance_type,\n",
    "                               endpoint_name='battlesnake-endpoint')"
   ]
  },
  {
   "cell_type": "markdown",
   "metadata": {},
   "source": [
    "## Testing the new endpoint\n",
    "You should see `Action to take is X`"
   ]
  },
  {
   "cell_type": "code",
   "execution_count": 11,
   "metadata": {},
   "outputs": [
    {
     "ename": "NameError",
     "evalue": "name 'predictor' is not defined",
     "output_type": "error",
     "traceback": [
      "\u001b[0;31m---------------------------------------------------------------------------\u001b[0m",
      "\u001b[0;31mNameError\u001b[0m                                 Traceback (most recent call last)",
      "\u001b[0;32m<ipython-input-11-c1a4f55073ef>\u001b[0m in \u001b[0;36m<module>\u001b[0;34m\u001b[0m\n\u001b[1;32m     17\u001b[0m             }\n\u001b[1;32m     18\u001b[0m         }\n\u001b[0;32m---> 19\u001b[0;31m action = predictor.predict({\"state\": data1, \"snake_id\": data2, \n\u001b[0m\u001b[1;32m     20\u001b[0m                            \u001b[0;34m\"turn_count\"\u001b[0m\u001b[0;34m:\u001b[0m \u001b[0mdata3\u001b[0m\u001b[0;34m,\u001b[0m \u001b[0;34m\"health\"\u001b[0m\u001b[0;34m:\u001b[0m \u001b[0mdata4\u001b[0m\u001b[0;34m,\u001b[0m\u001b[0;34m\u001b[0m\u001b[0;34m\u001b[0m\u001b[0m\n\u001b[1;32m     21\u001b[0m                            \"all_health\": health_dict, \"map_width\": map_size[0], \"json\": json})\n",
      "\u001b[0;31mNameError\u001b[0m: name 'predictor' is not defined"
     ]
    }
   ],
   "source": [
    "data1 = np.zeros(shape=(1, 2, 3, map_size[0]+2, map_size[1]+2))\n",
    "data2 = np.zeros(shape=(1, 2))\n",
    "data3 = np.zeros(shape=(1, 2))\n",
    "data4 = np.zeros(shape=(1, 2))\n",
    "health_dict = {0: 50, 1: 50}\n",
    "json = {\"board\": {\n",
    "            \"height\": 15,\n",
    "            \"width\": 15,\n",
    "            \"food\": [],\n",
    "            \"snakes\": []\n",
    "            },\n",
    "        \"you\": {\n",
    "            \"id\": \"snake-id-string\",\n",
    "            \"name\": \"Sneky Snek\",\n",
    "            \"health\": 90,\n",
    "            \"body\": [{\"x\": 1, \"y\": 3}]\n",
    "            }\n",
    "        }\n",
    "action = predictor.predict({\"state\": data1, \"snake_id\": data2, \n",
    "                           \"turn_count\": data3, \"health\": data4,  \n",
    "                           \"all_health\": health_dict, \"map_width\": map_size[0], \"json\": json})\n",
    "print(\"Action to take is {}\".format(action))"
   ]
  },
  {
   "cell_type": "code",
   "execution_count": null,
   "metadata": {},
   "outputs": [],
   "source": []
  }
 ],
 "metadata": {
  "kernelspec": {
   "display_name": "conda_mxnet_p36",
   "language": "python",
   "name": "conda_mxnet_p36"
  },
  "language_info": {
   "codemirror_mode": {
    "name": "ipython",
    "version": 3
   },
   "file_extension": ".py",
   "mimetype": "text/x-python",
   "name": "python",
   "nbconvert_exporter": "python",
   "pygments_lexer": "ipython3",
   "version": "3.6.13"
  }
 },
 "nbformat": 4,
 "nbformat_minor": 4
}
